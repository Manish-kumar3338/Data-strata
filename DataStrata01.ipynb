{
 "cells": [
  {
   "cell_type": "code",
   "execution_count": 1,
   "id": "43a58e73",
   "metadata": {},
   "outputs": [],
   "source": [
    "import pandas as pd\n",
    "import numpy as np\n",
    "import matplotlib.pyplot as plt"
   ]
  },
  {
   "cell_type": "code",
   "execution_count": 2,
   "id": "863400b4",
   "metadata": {},
   "outputs": [
    {
     "name": "stderr",
     "output_type": "stream",
     "text": [
      "C:\\Users\\manish kumar\\AppData\\Local\\Temp\\ipykernel_14392\\1084434047.py:1: DtypeWarning: Columns (208,225,255,257,260,270,271,277) have mixed types. Specify dtype option on import or set low_memory=False.\n",
      "  df = pd.read_csv(\"dataset.csv\")\n"
     ]
    },
    {
     "data": {
      "text/html": [
       "<div>\n",
       "<style scoped>\n",
       "    .dataframe tbody tr th:only-of-type {\n",
       "        vertical-align: middle;\n",
       "    }\n",
       "\n",
       "    .dataframe tbody tr th {\n",
       "        vertical-align: top;\n",
       "    }\n",
       "\n",
       "    .dataframe thead th {\n",
       "        text-align: right;\n",
       "    }\n",
       "</style>\n",
       "<table border=\"1\" class=\"dataframe\">\n",
       "  <thead>\n",
       "    <tr style=\"text-align: right;\">\n",
       "      <th></th>\n",
       "      <th>Duration (in seconds)</th>\n",
       "      <th>What is your age (# years)?</th>\n",
       "      <th>What is your gender? - Selected Choice</th>\n",
       "      <th>In which country do you currently reside?</th>\n",
       "      <th>Are you currently a student? (high school, university, or graduate)</th>\n",
       "      <th>On which platforms have you begun or completed data science courses? (Select all that apply) - Selected Choice - Coursera</th>\n",
       "      <th>On which platforms have you begun or completed data science courses? (Select all that apply) - Selected Choice - edX</th>\n",
       "      <th>On which platforms have you begun or completed data science courses? (Select all that apply) - Selected Choice - Kaggle Learn Courses</th>\n",
       "      <th>On which platforms have you begun or completed data science courses? (Select all that apply) - Selected Choice - DataCamp</th>\n",
       "      <th>On which platforms have you begun or completed data science courses? (Select all that apply) - Selected Choice - Fast.ai</th>\n",
       "      <th>...</th>\n",
       "      <th>Who/what are your favorite media sources that report on data science topics? (Select all that apply) - Selected Choice - Reddit (r/machinelearning, etc)</th>\n",
       "      <th>Who/what are your favorite media sources that report on data science topics? (Select all that apply) - Selected Choice - Kaggle (notebooks, forums, etc)</th>\n",
       "      <th>Who/what are your favorite media sources that report on data science topics? (Select all that apply) - Selected Choice - Course Forums (forums.fast.ai, Coursera forums, etc)</th>\n",
       "      <th>Who/what are your favorite media sources that report on data science topics? (Select all that apply) - Selected Choice - YouTube (Kaggle YouTube, Cloud AI Adventures, etc)</th>\n",
       "      <th>Who/what are your favorite media sources that report on data science topics? (Select all that apply) - Selected Choice - Podcasts (Chai Time Data Science, O’Reilly Data Show, etc)</th>\n",
       "      <th>Who/what are your favorite media sources that report on data science topics? (Select all that apply) - Selected Choice - Blogs (Towards Data Science, Analytics Vidhya, etc)</th>\n",
       "      <th>Who/what are your favorite media sources that report on data science topics? (Select all that apply) - Selected Choice - Journal Publications (peer-reviewed journals, conference proceedings, etc)</th>\n",
       "      <th>Who/what are your favorite media sources that report on data science topics? (Select all that apply) - Selected Choice - Slack Communities (ods.ai, kagglenoobs, etc)</th>\n",
       "      <th>Who/what are your favorite media sources that report on data science topics? (Select all that apply) - Selected Choice - None</th>\n",
       "      <th>Who/what are your favorite media sources that report on data science topics? (Select all that apply) - Selected Choice - Other</th>\n",
       "    </tr>\n",
       "  </thead>\n",
       "  <tbody>\n",
       "    <tr>\n",
       "      <th>0</th>\n",
       "      <td>121</td>\n",
       "      <td>30-34</td>\n",
       "      <td>Man</td>\n",
       "      <td>India</td>\n",
       "      <td>No</td>\n",
       "      <td>NaN</td>\n",
       "      <td>NaN</td>\n",
       "      <td>NaN</td>\n",
       "      <td>NaN</td>\n",
       "      <td>NaN</td>\n",
       "      <td>...</td>\n",
       "      <td>NaN</td>\n",
       "      <td>NaN</td>\n",
       "      <td>NaN</td>\n",
       "      <td>NaN</td>\n",
       "      <td>NaN</td>\n",
       "      <td>NaN</td>\n",
       "      <td>NaN</td>\n",
       "      <td>NaN</td>\n",
       "      <td>NaN</td>\n",
       "      <td>NaN</td>\n",
       "    </tr>\n",
       "    <tr>\n",
       "      <th>1</th>\n",
       "      <td>462</td>\n",
       "      <td>30-34</td>\n",
       "      <td>Man</td>\n",
       "      <td>Algeria</td>\n",
       "      <td>No</td>\n",
       "      <td>NaN</td>\n",
       "      <td>NaN</td>\n",
       "      <td>NaN</td>\n",
       "      <td>NaN</td>\n",
       "      <td>NaN</td>\n",
       "      <td>...</td>\n",
       "      <td>NaN</td>\n",
       "      <td>NaN</td>\n",
       "      <td>NaN</td>\n",
       "      <td>NaN</td>\n",
       "      <td>NaN</td>\n",
       "      <td>NaN</td>\n",
       "      <td>NaN</td>\n",
       "      <td>NaN</td>\n",
       "      <td>NaN</td>\n",
       "      <td>NaN</td>\n",
       "    </tr>\n",
       "    <tr>\n",
       "      <th>2</th>\n",
       "      <td>293</td>\n",
       "      <td>18-21</td>\n",
       "      <td>Man</td>\n",
       "      <td>Egypt</td>\n",
       "      <td>Yes</td>\n",
       "      <td>Coursera</td>\n",
       "      <td>edX</td>\n",
       "      <td>NaN</td>\n",
       "      <td>DataCamp</td>\n",
       "      <td>NaN</td>\n",
       "      <td>...</td>\n",
       "      <td>NaN</td>\n",
       "      <td>Kaggle (notebooks, forums, etc)</td>\n",
       "      <td>NaN</td>\n",
       "      <td>YouTube (Kaggle YouTube, Cloud AI Adventures, ...</td>\n",
       "      <td>Podcasts (Chai Time Data Science, O’Reilly Dat...</td>\n",
       "      <td>NaN</td>\n",
       "      <td>NaN</td>\n",
       "      <td>NaN</td>\n",
       "      <td>NaN</td>\n",
       "      <td>NaN</td>\n",
       "    </tr>\n",
       "    <tr>\n",
       "      <th>3</th>\n",
       "      <td>851</td>\n",
       "      <td>55-59</td>\n",
       "      <td>Man</td>\n",
       "      <td>France</td>\n",
       "      <td>No</td>\n",
       "      <td>Coursera</td>\n",
       "      <td>NaN</td>\n",
       "      <td>Kaggle Learn Courses</td>\n",
       "      <td>NaN</td>\n",
       "      <td>NaN</td>\n",
       "      <td>...</td>\n",
       "      <td>NaN</td>\n",
       "      <td>Kaggle (notebooks, forums, etc)</td>\n",
       "      <td>Course Forums (forums.fast.ai, Coursera forums...</td>\n",
       "      <td>NaN</td>\n",
       "      <td>NaN</td>\n",
       "      <td>Blogs (Towards Data Science, Analytics Vidhya,...</td>\n",
       "      <td>NaN</td>\n",
       "      <td>NaN</td>\n",
       "      <td>NaN</td>\n",
       "      <td>NaN</td>\n",
       "    </tr>\n",
       "    <tr>\n",
       "      <th>4</th>\n",
       "      <td>232</td>\n",
       "      <td>45-49</td>\n",
       "      <td>Man</td>\n",
       "      <td>India</td>\n",
       "      <td>Yes</td>\n",
       "      <td>NaN</td>\n",
       "      <td>NaN</td>\n",
       "      <td>NaN</td>\n",
       "      <td>NaN</td>\n",
       "      <td>NaN</td>\n",
       "      <td>...</td>\n",
       "      <td>NaN</td>\n",
       "      <td>NaN</td>\n",
       "      <td>NaN</td>\n",
       "      <td>NaN</td>\n",
       "      <td>NaN</td>\n",
       "      <td>Blogs (Towards Data Science, Analytics Vidhya,...</td>\n",
       "      <td>NaN</td>\n",
       "      <td>NaN</td>\n",
       "      <td>NaN</td>\n",
       "      <td>NaN</td>\n",
       "    </tr>\n",
       "  </tbody>\n",
       "</table>\n",
       "<p>5 rows × 296 columns</p>\n",
       "</div>"
      ],
      "text/plain": [
       "   Duration (in seconds) What is your age (# years)?  \\\n",
       "0                    121                       30-34   \n",
       "1                    462                       30-34   \n",
       "2                    293                       18-21   \n",
       "3                    851                       55-59   \n",
       "4                    232                       45-49   \n",
       "\n",
       "  What is your gender? - Selected Choice  \\\n",
       "0                                    Man   \n",
       "1                                    Man   \n",
       "2                                    Man   \n",
       "3                                    Man   \n",
       "4                                    Man   \n",
       "\n",
       "  In which country do you currently reside?  \\\n",
       "0                                     India   \n",
       "1                                   Algeria   \n",
       "2                                     Egypt   \n",
       "3                                    France   \n",
       "4                                     India   \n",
       "\n",
       "  Are you currently a student? (high school, university, or graduate)  \\\n",
       "0                                                 No                    \n",
       "1                                                 No                    \n",
       "2                                                Yes                    \n",
       "3                                                 No                    \n",
       "4                                                Yes                    \n",
       "\n",
       "  On which platforms have you begun or completed data science courses? (Select all that apply) - Selected Choice - Coursera  \\\n",
       "0                                                NaN                                                                          \n",
       "1                                                NaN                                                                          \n",
       "2                                           Coursera                                                                          \n",
       "3                                           Coursera                                                                          \n",
       "4                                                NaN                                                                          \n",
       "\n",
       "  On which platforms have you begun or completed data science courses? (Select all that apply) - Selected Choice - edX  \\\n",
       "0                                                NaN                                                                     \n",
       "1                                                NaN                                                                     \n",
       "2                                                edX                                                                     \n",
       "3                                                NaN                                                                     \n",
       "4                                                NaN                                                                     \n",
       "\n",
       "  On which platforms have you begun or completed data science courses? (Select all that apply) - Selected Choice - Kaggle Learn Courses  \\\n",
       "0                                                NaN                                                                                      \n",
       "1                                                NaN                                                                                      \n",
       "2                                                NaN                                                                                      \n",
       "3                               Kaggle Learn Courses                                                                                      \n",
       "4                                                NaN                                                                                      \n",
       "\n",
       "  On which platforms have you begun or completed data science courses? (Select all that apply) - Selected Choice - DataCamp  \\\n",
       "0                                                NaN                                                                          \n",
       "1                                                NaN                                                                          \n",
       "2                                           DataCamp                                                                          \n",
       "3                                                NaN                                                                          \n",
       "4                                                NaN                                                                          \n",
       "\n",
       "  On which platforms have you begun or completed data science courses? (Select all that apply) - Selected Choice - Fast.ai  \\\n",
       "0                                                NaN                                                                         \n",
       "1                                                NaN                                                                         \n",
       "2                                                NaN                                                                         \n",
       "3                                                NaN                                                                         \n",
       "4                                                NaN                                                                         \n",
       "\n",
       "   ...  \\\n",
       "0  ...   \n",
       "1  ...   \n",
       "2  ...   \n",
       "3  ...   \n",
       "4  ...   \n",
       "\n",
       "  Who/what are your favorite media sources that report on data science topics? (Select all that apply) - Selected Choice - Reddit (r/machinelearning, etc)  \\\n",
       "0                                                NaN                                                                                                         \n",
       "1                                                NaN                                                                                                         \n",
       "2                                                NaN                                                                                                         \n",
       "3                                                NaN                                                                                                         \n",
       "4                                                NaN                                                                                                         \n",
       "\n",
       "  Who/what are your favorite media sources that report on data science topics? (Select all that apply) - Selected Choice - Kaggle (notebooks, forums, etc)  \\\n",
       "0                                                NaN                                                                                                         \n",
       "1                                                NaN                                                                                                         \n",
       "2                    Kaggle (notebooks, forums, etc)                                                                                                         \n",
       "3                    Kaggle (notebooks, forums, etc)                                                                                                         \n",
       "4                                                NaN                                                                                                         \n",
       "\n",
       "  Who/what are your favorite media sources that report on data science topics? (Select all that apply) - Selected Choice - Course Forums (forums.fast.ai, Coursera forums, etc)  \\\n",
       "0                                                NaN                                                                                                                              \n",
       "1                                                NaN                                                                                                                              \n",
       "2                                                NaN                                                                                                                              \n",
       "3  Course Forums (forums.fast.ai, Coursera forums...                                                                                                                              \n",
       "4                                                NaN                                                                                                                              \n",
       "\n",
       "  Who/what are your favorite media sources that report on data science topics? (Select all that apply) - Selected Choice - YouTube (Kaggle YouTube, Cloud AI Adventures, etc)  \\\n",
       "0                                                NaN                                                                                                                            \n",
       "1                                                NaN                                                                                                                            \n",
       "2  YouTube (Kaggle YouTube, Cloud AI Adventures, ...                                                                                                                            \n",
       "3                                                NaN                                                                                                                            \n",
       "4                                                NaN                                                                                                                            \n",
       "\n",
       "  Who/what are your favorite media sources that report on data science topics? (Select all that apply) - Selected Choice - Podcasts (Chai Time Data Science, O’Reilly Data Show, etc)  \\\n",
       "0                                                NaN                                                                                                                                    \n",
       "1                                                NaN                                                                                                                                    \n",
       "2  Podcasts (Chai Time Data Science, O’Reilly Dat...                                                                                                                                    \n",
       "3                                                NaN                                                                                                                                    \n",
       "4                                                NaN                                                                                                                                    \n",
       "\n",
       "  Who/what are your favorite media sources that report on data science topics? (Select all that apply) - Selected Choice - Blogs (Towards Data Science, Analytics Vidhya, etc)  \\\n",
       "0                                                NaN                                                                                                                             \n",
       "1                                                NaN                                                                                                                             \n",
       "2                                                NaN                                                                                                                             \n",
       "3  Blogs (Towards Data Science, Analytics Vidhya,...                                                                                                                             \n",
       "4  Blogs (Towards Data Science, Analytics Vidhya,...                                                                                                                             \n",
       "\n",
       "  Who/what are your favorite media sources that report on data science topics? (Select all that apply) - Selected Choice - Journal Publications (peer-reviewed journals, conference proceedings, etc)  \\\n",
       "0                                                NaN                                                                                                                                                    \n",
       "1                                                NaN                                                                                                                                                    \n",
       "2                                                NaN                                                                                                                                                    \n",
       "3                                                NaN                                                                                                                                                    \n",
       "4                                                NaN                                                                                                                                                    \n",
       "\n",
       "  Who/what are your favorite media sources that report on data science topics? (Select all that apply) - Selected Choice - Slack Communities (ods.ai, kagglenoobs, etc)  \\\n",
       "0                                                NaN                                                                                                                      \n",
       "1                                                NaN                                                                                                                      \n",
       "2                                                NaN                                                                                                                      \n",
       "3                                                NaN                                                                                                                      \n",
       "4                                                NaN                                                                                                                      \n",
       "\n",
       "  Who/what are your favorite media sources that report on data science topics? (Select all that apply) - Selected Choice - None  \\\n",
       "0                                                NaN                                                                              \n",
       "1                                                NaN                                                                              \n",
       "2                                                NaN                                                                              \n",
       "3                                                NaN                                                                              \n",
       "4                                                NaN                                                                              \n",
       "\n",
       "  Who/what are your favorite media sources that report on data science topics? (Select all that apply) - Selected Choice - Other  \n",
       "0                                                NaN                                                                              \n",
       "1                                                NaN                                                                              \n",
       "2                                                NaN                                                                              \n",
       "3                                                NaN                                                                              \n",
       "4                                                NaN                                                                              \n",
       "\n",
       "[5 rows x 296 columns]"
      ]
     },
     "execution_count": 2,
     "metadata": {},
     "output_type": "execute_result"
    }
   ],
   "source": [
    "df = pd.read_csv(\"dataset.csv\")\n",
    "df.head()"
   ]
  },
  {
   "cell_type": "code",
   "execution_count": 3,
   "id": "67e31e17",
   "metadata": {},
   "outputs": [
    {
     "data": {
      "text/html": [
       "<div>\n",
       "<style scoped>\n",
       "    .dataframe tbody tr th:only-of-type {\n",
       "        vertical-align: middle;\n",
       "    }\n",
       "\n",
       "    .dataframe tbody tr th {\n",
       "        vertical-align: top;\n",
       "    }\n",
       "\n",
       "    .dataframe thead th {\n",
       "        text-align: right;\n",
       "    }\n",
       "</style>\n",
       "<table border=\"1\" class=\"dataframe\">\n",
       "  <thead>\n",
       "    <tr style=\"text-align: right;\">\n",
       "      <th></th>\n",
       "      <th>Duration (in seconds)</th>\n",
       "      <th>What is your gender? - Selected Choice</th>\n",
       "      <th>In which country do you currently reside?</th>\n",
       "      <th>Are you currently a student? (high school, university, or graduate)</th>\n",
       "      <th>On which platforms have you begun or completed data science courses? (Select all that apply) - Selected Choice - Coursera</th>\n",
       "      <th>On which platforms have you begun or completed data science courses? (Select all that apply) - Selected Choice - edX</th>\n",
       "      <th>On which platforms have you begun or completed data science courses? (Select all that apply) - Selected Choice - Kaggle Learn Courses</th>\n",
       "      <th>On which platforms have you begun or completed data science courses? (Select all that apply) - Selected Choice - DataCamp</th>\n",
       "      <th>On which platforms have you begun or completed data science courses? (Select all that apply) - Selected Choice - Fast.ai</th>\n",
       "      <th>On which platforms have you begun or completed data science courses? (Select all that apply) - Selected Choice - Udacity</th>\n",
       "      <th>...</th>\n",
       "      <th>Who/what are your favorite media sources that report on data science topics? (Select all that apply) - Selected Choice - Reddit (r/machinelearning, etc)</th>\n",
       "      <th>Who/what are your favorite media sources that report on data science topics? (Select all that apply) - Selected Choice - Kaggle (notebooks, forums, etc)</th>\n",
       "      <th>Who/what are your favorite media sources that report on data science topics? (Select all that apply) - Selected Choice - Course Forums (forums.fast.ai, Coursera forums, etc)</th>\n",
       "      <th>Who/what are your favorite media sources that report on data science topics? (Select all that apply) - Selected Choice - YouTube (Kaggle YouTube, Cloud AI Adventures, etc)</th>\n",
       "      <th>Who/what are your favorite media sources that report on data science topics? (Select all that apply) - Selected Choice - Podcasts (Chai Time Data Science, O’Reilly Data Show, etc)</th>\n",
       "      <th>Who/what are your favorite media sources that report on data science topics? (Select all that apply) - Selected Choice - Blogs (Towards Data Science, Analytics Vidhya, etc)</th>\n",
       "      <th>Who/what are your favorite media sources that report on data science topics? (Select all that apply) - Selected Choice - Journal Publications (peer-reviewed journals, conference proceedings, etc)</th>\n",
       "      <th>Who/what are your favorite media sources that report on data science topics? (Select all that apply) - Selected Choice - Slack Communities (ods.ai, kagglenoobs, etc)</th>\n",
       "      <th>Who/what are your favorite media sources that report on data science topics? (Select all that apply) - Selected Choice - None</th>\n",
       "      <th>Who/what are your favorite media sources that report on data science topics? (Select all that apply) - Selected Choice - Other</th>\n",
       "    </tr>\n",
       "  </thead>\n",
       "  <tbody>\n",
       "    <tr>\n",
       "      <th>0</th>\n",
       "      <td>121</td>\n",
       "      <td>Man</td>\n",
       "      <td>India</td>\n",
       "      <td>No</td>\n",
       "      <td>NaN</td>\n",
       "      <td>NaN</td>\n",
       "      <td>NaN</td>\n",
       "      <td>NaN</td>\n",
       "      <td>NaN</td>\n",
       "      <td>NaN</td>\n",
       "      <td>...</td>\n",
       "      <td>NaN</td>\n",
       "      <td>NaN</td>\n",
       "      <td>NaN</td>\n",
       "      <td>NaN</td>\n",
       "      <td>NaN</td>\n",
       "      <td>NaN</td>\n",
       "      <td>NaN</td>\n",
       "      <td>NaN</td>\n",
       "      <td>NaN</td>\n",
       "      <td>NaN</td>\n",
       "    </tr>\n",
       "    <tr>\n",
       "      <th>1</th>\n",
       "      <td>462</td>\n",
       "      <td>Man</td>\n",
       "      <td>Algeria</td>\n",
       "      <td>No</td>\n",
       "      <td>NaN</td>\n",
       "      <td>NaN</td>\n",
       "      <td>NaN</td>\n",
       "      <td>NaN</td>\n",
       "      <td>NaN</td>\n",
       "      <td>NaN</td>\n",
       "      <td>...</td>\n",
       "      <td>NaN</td>\n",
       "      <td>NaN</td>\n",
       "      <td>NaN</td>\n",
       "      <td>NaN</td>\n",
       "      <td>NaN</td>\n",
       "      <td>NaN</td>\n",
       "      <td>NaN</td>\n",
       "      <td>NaN</td>\n",
       "      <td>NaN</td>\n",
       "      <td>NaN</td>\n",
       "    </tr>\n",
       "    <tr>\n",
       "      <th>2</th>\n",
       "      <td>293</td>\n",
       "      <td>Man</td>\n",
       "      <td>Egypt</td>\n",
       "      <td>Yes</td>\n",
       "      <td>Coursera</td>\n",
       "      <td>edX</td>\n",
       "      <td>NaN</td>\n",
       "      <td>DataCamp</td>\n",
       "      <td>NaN</td>\n",
       "      <td>Udacity</td>\n",
       "      <td>...</td>\n",
       "      <td>NaN</td>\n",
       "      <td>Kaggle (notebooks, forums, etc)</td>\n",
       "      <td>NaN</td>\n",
       "      <td>YouTube (Kaggle YouTube, Cloud AI Adventures, ...</td>\n",
       "      <td>Podcasts (Chai Time Data Science, O’Reilly Dat...</td>\n",
       "      <td>NaN</td>\n",
       "      <td>NaN</td>\n",
       "      <td>NaN</td>\n",
       "      <td>NaN</td>\n",
       "      <td>NaN</td>\n",
       "    </tr>\n",
       "    <tr>\n",
       "      <th>3</th>\n",
       "      <td>851</td>\n",
       "      <td>Man</td>\n",
       "      <td>France</td>\n",
       "      <td>No</td>\n",
       "      <td>Coursera</td>\n",
       "      <td>NaN</td>\n",
       "      <td>Kaggle Learn Courses</td>\n",
       "      <td>NaN</td>\n",
       "      <td>NaN</td>\n",
       "      <td>NaN</td>\n",
       "      <td>...</td>\n",
       "      <td>NaN</td>\n",
       "      <td>Kaggle (notebooks, forums, etc)</td>\n",
       "      <td>Course Forums (forums.fast.ai, Coursera forums...</td>\n",
       "      <td>NaN</td>\n",
       "      <td>NaN</td>\n",
       "      <td>Blogs (Towards Data Science, Analytics Vidhya,...</td>\n",
       "      <td>NaN</td>\n",
       "      <td>NaN</td>\n",
       "      <td>NaN</td>\n",
       "      <td>NaN</td>\n",
       "    </tr>\n",
       "    <tr>\n",
       "      <th>4</th>\n",
       "      <td>232</td>\n",
       "      <td>Man</td>\n",
       "      <td>India</td>\n",
       "      <td>Yes</td>\n",
       "      <td>NaN</td>\n",
       "      <td>NaN</td>\n",
       "      <td>NaN</td>\n",
       "      <td>NaN</td>\n",
       "      <td>NaN</td>\n",
       "      <td>NaN</td>\n",
       "      <td>...</td>\n",
       "      <td>NaN</td>\n",
       "      <td>NaN</td>\n",
       "      <td>NaN</td>\n",
       "      <td>NaN</td>\n",
       "      <td>NaN</td>\n",
       "      <td>Blogs (Towards Data Science, Analytics Vidhya,...</td>\n",
       "      <td>NaN</td>\n",
       "      <td>NaN</td>\n",
       "      <td>NaN</td>\n",
       "      <td>NaN</td>\n",
       "    </tr>\n",
       "  </tbody>\n",
       "</table>\n",
       "<p>5 rows × 295 columns</p>\n",
       "</div>"
      ],
      "text/plain": [
       "   Duration (in seconds) What is your gender? - Selected Choice  \\\n",
       "0                    121                                    Man   \n",
       "1                    462                                    Man   \n",
       "2                    293                                    Man   \n",
       "3                    851                                    Man   \n",
       "4                    232                                    Man   \n",
       "\n",
       "  In which country do you currently reside?  \\\n",
       "0                                     India   \n",
       "1                                   Algeria   \n",
       "2                                     Egypt   \n",
       "3                                    France   \n",
       "4                                     India   \n",
       "\n",
       "  Are you currently a student? (high school, university, or graduate)  \\\n",
       "0                                                 No                    \n",
       "1                                                 No                    \n",
       "2                                                Yes                    \n",
       "3                                                 No                    \n",
       "4                                                Yes                    \n",
       "\n",
       "  On which platforms have you begun or completed data science courses? (Select all that apply) - Selected Choice - Coursera  \\\n",
       "0                                                NaN                                                                          \n",
       "1                                                NaN                                                                          \n",
       "2                                           Coursera                                                                          \n",
       "3                                           Coursera                                                                          \n",
       "4                                                NaN                                                                          \n",
       "\n",
       "  On which platforms have you begun or completed data science courses? (Select all that apply) - Selected Choice - edX  \\\n",
       "0                                                NaN                                                                     \n",
       "1                                                NaN                                                                     \n",
       "2                                                edX                                                                     \n",
       "3                                                NaN                                                                     \n",
       "4                                                NaN                                                                     \n",
       "\n",
       "  On which platforms have you begun or completed data science courses? (Select all that apply) - Selected Choice - Kaggle Learn Courses  \\\n",
       "0                                                NaN                                                                                      \n",
       "1                                                NaN                                                                                      \n",
       "2                                                NaN                                                                                      \n",
       "3                               Kaggle Learn Courses                                                                                      \n",
       "4                                                NaN                                                                                      \n",
       "\n",
       "  On which platforms have you begun or completed data science courses? (Select all that apply) - Selected Choice - DataCamp  \\\n",
       "0                                                NaN                                                                          \n",
       "1                                                NaN                                                                          \n",
       "2                                           DataCamp                                                                          \n",
       "3                                                NaN                                                                          \n",
       "4                                                NaN                                                                          \n",
       "\n",
       "  On which platforms have you begun or completed data science courses? (Select all that apply) - Selected Choice - Fast.ai  \\\n",
       "0                                                NaN                                                                         \n",
       "1                                                NaN                                                                         \n",
       "2                                                NaN                                                                         \n",
       "3                                                NaN                                                                         \n",
       "4                                                NaN                                                                         \n",
       "\n",
       "  On which platforms have you begun or completed data science courses? (Select all that apply) - Selected Choice - Udacity  \\\n",
       "0                                                NaN                                                                         \n",
       "1                                                NaN                                                                         \n",
       "2                                            Udacity                                                                         \n",
       "3                                                NaN                                                                         \n",
       "4                                                NaN                                                                         \n",
       "\n",
       "   ...  \\\n",
       "0  ...   \n",
       "1  ...   \n",
       "2  ...   \n",
       "3  ...   \n",
       "4  ...   \n",
       "\n",
       "  Who/what are your favorite media sources that report on data science topics? (Select all that apply) - Selected Choice - Reddit (r/machinelearning, etc)  \\\n",
       "0                                                NaN                                                                                                         \n",
       "1                                                NaN                                                                                                         \n",
       "2                                                NaN                                                                                                         \n",
       "3                                                NaN                                                                                                         \n",
       "4                                                NaN                                                                                                         \n",
       "\n",
       "  Who/what are your favorite media sources that report on data science topics? (Select all that apply) - Selected Choice - Kaggle (notebooks, forums, etc)  \\\n",
       "0                                                NaN                                                                                                         \n",
       "1                                                NaN                                                                                                         \n",
       "2                    Kaggle (notebooks, forums, etc)                                                                                                         \n",
       "3                    Kaggle (notebooks, forums, etc)                                                                                                         \n",
       "4                                                NaN                                                                                                         \n",
       "\n",
       "  Who/what are your favorite media sources that report on data science topics? (Select all that apply) - Selected Choice - Course Forums (forums.fast.ai, Coursera forums, etc)  \\\n",
       "0                                                NaN                                                                                                                              \n",
       "1                                                NaN                                                                                                                              \n",
       "2                                                NaN                                                                                                                              \n",
       "3  Course Forums (forums.fast.ai, Coursera forums...                                                                                                                              \n",
       "4                                                NaN                                                                                                                              \n",
       "\n",
       "  Who/what are your favorite media sources that report on data science topics? (Select all that apply) - Selected Choice - YouTube (Kaggle YouTube, Cloud AI Adventures, etc)  \\\n",
       "0                                                NaN                                                                                                                            \n",
       "1                                                NaN                                                                                                                            \n",
       "2  YouTube (Kaggle YouTube, Cloud AI Adventures, ...                                                                                                                            \n",
       "3                                                NaN                                                                                                                            \n",
       "4                                                NaN                                                                                                                            \n",
       "\n",
       "  Who/what are your favorite media sources that report on data science topics? (Select all that apply) - Selected Choice - Podcasts (Chai Time Data Science, O’Reilly Data Show, etc)  \\\n",
       "0                                                NaN                                                                                                                                    \n",
       "1                                                NaN                                                                                                                                    \n",
       "2  Podcasts (Chai Time Data Science, O’Reilly Dat...                                                                                                                                    \n",
       "3                                                NaN                                                                                                                                    \n",
       "4                                                NaN                                                                                                                                    \n",
       "\n",
       "  Who/what are your favorite media sources that report on data science topics? (Select all that apply) - Selected Choice - Blogs (Towards Data Science, Analytics Vidhya, etc)  \\\n",
       "0                                                NaN                                                                                                                             \n",
       "1                                                NaN                                                                                                                             \n",
       "2                                                NaN                                                                                                                             \n",
       "3  Blogs (Towards Data Science, Analytics Vidhya,...                                                                                                                             \n",
       "4  Blogs (Towards Data Science, Analytics Vidhya,...                                                                                                                             \n",
       "\n",
       "  Who/what are your favorite media sources that report on data science topics? (Select all that apply) - Selected Choice - Journal Publications (peer-reviewed journals, conference proceedings, etc)  \\\n",
       "0                                                NaN                                                                                                                                                    \n",
       "1                                                NaN                                                                                                                                                    \n",
       "2                                                NaN                                                                                                                                                    \n",
       "3                                                NaN                                                                                                                                                    \n",
       "4                                                NaN                                                                                                                                                    \n",
       "\n",
       "  Who/what are your favorite media sources that report on data science topics? (Select all that apply) - Selected Choice - Slack Communities (ods.ai, kagglenoobs, etc)  \\\n",
       "0                                                NaN                                                                                                                      \n",
       "1                                                NaN                                                                                                                      \n",
       "2                                                NaN                                                                                                                      \n",
       "3                                                NaN                                                                                                                      \n",
       "4                                                NaN                                                                                                                      \n",
       "\n",
       "  Who/what are your favorite media sources that report on data science topics? (Select all that apply) - Selected Choice - None  \\\n",
       "0                                                NaN                                                                              \n",
       "1                                                NaN                                                                              \n",
       "2                                                NaN                                                                              \n",
       "3                                                NaN                                                                              \n",
       "4                                                NaN                                                                              \n",
       "\n",
       "  Who/what are your favorite media sources that report on data science topics? (Select all that apply) - Selected Choice - Other  \n",
       "0                                                NaN                                                                              \n",
       "1                                                NaN                                                                              \n",
       "2                                                NaN                                                                              \n",
       "3                                                NaN                                                                              \n",
       "4                                                NaN                                                                              \n",
       "\n",
       "[5 rows x 295 columns]"
      ]
     },
     "execution_count": 3,
     "metadata": {},
     "output_type": "execute_result"
    }
   ],
   "source": [
    "df.drop(df.iloc[:, 1:2], inplace=True, axis=1)\n",
    "df.head()"
   ]
  },
  {
   "cell_type": "code",
   "execution_count": 4,
   "id": "3d61cafa",
   "metadata": {},
   "outputs": [
    {
     "data": {
      "text/html": [
       "<div>\n",
       "<style scoped>\n",
       "    .dataframe tbody tr th:only-of-type {\n",
       "        vertical-align: middle;\n",
       "    }\n",
       "\n",
       "    .dataframe tbody tr th {\n",
       "        vertical-align: top;\n",
       "    }\n",
       "\n",
       "    .dataframe thead th {\n",
       "        text-align: right;\n",
       "    }\n",
       "</style>\n",
       "<table border=\"1\" class=\"dataframe\">\n",
       "  <thead>\n",
       "    <tr style=\"text-align: right;\">\n",
       "      <th></th>\n",
       "      <th>Duration (in seconds)</th>\n",
       "      <th>In which country do you currently reside?</th>\n",
       "      <th>Are you currently a student? (high school, university, or graduate)</th>\n",
       "      <th>On which platforms have you begun or completed data science courses? (Select all that apply) - Selected Choice - Coursera</th>\n",
       "      <th>On which platforms have you begun or completed data science courses? (Select all that apply) - Selected Choice - edX</th>\n",
       "      <th>On which platforms have you begun or completed data science courses? (Select all that apply) - Selected Choice - Kaggle Learn Courses</th>\n",
       "      <th>On which platforms have you begun or completed data science courses? (Select all that apply) - Selected Choice - DataCamp</th>\n",
       "      <th>On which platforms have you begun or completed data science courses? (Select all that apply) - Selected Choice - Fast.ai</th>\n",
       "      <th>On which platforms have you begun or completed data science courses? (Select all that apply) - Selected Choice - Udacity</th>\n",
       "      <th>On which platforms have you begun or completed data science courses? (Select all that apply) - Selected Choice - Udemy</th>\n",
       "      <th>...</th>\n",
       "      <th>Who/what are your favorite media sources that report on data science topics? (Select all that apply) - Selected Choice - Reddit (r/machinelearning, etc)</th>\n",
       "      <th>Who/what are your favorite media sources that report on data science topics? (Select all that apply) - Selected Choice - Kaggle (notebooks, forums, etc)</th>\n",
       "      <th>Who/what are your favorite media sources that report on data science topics? (Select all that apply) - Selected Choice - Course Forums (forums.fast.ai, Coursera forums, etc)</th>\n",
       "      <th>Who/what are your favorite media sources that report on data science topics? (Select all that apply) - Selected Choice - YouTube (Kaggle YouTube, Cloud AI Adventures, etc)</th>\n",
       "      <th>Who/what are your favorite media sources that report on data science topics? (Select all that apply) - Selected Choice - Podcasts (Chai Time Data Science, O’Reilly Data Show, etc)</th>\n",
       "      <th>Who/what are your favorite media sources that report on data science topics? (Select all that apply) - Selected Choice - Blogs (Towards Data Science, Analytics Vidhya, etc)</th>\n",
       "      <th>Who/what are your favorite media sources that report on data science topics? (Select all that apply) - Selected Choice - Journal Publications (peer-reviewed journals, conference proceedings, etc)</th>\n",
       "      <th>Who/what are your favorite media sources that report on data science topics? (Select all that apply) - Selected Choice - Slack Communities (ods.ai, kagglenoobs, etc)</th>\n",
       "      <th>Who/what are your favorite media sources that report on data science topics? (Select all that apply) - Selected Choice - None</th>\n",
       "      <th>Who/what are your favorite media sources that report on data science topics? (Select all that apply) - Selected Choice - Other</th>\n",
       "    </tr>\n",
       "  </thead>\n",
       "  <tbody>\n",
       "    <tr>\n",
       "      <th>0</th>\n",
       "      <td>121</td>\n",
       "      <td>India</td>\n",
       "      <td>No</td>\n",
       "      <td>NaN</td>\n",
       "      <td>NaN</td>\n",
       "      <td>NaN</td>\n",
       "      <td>NaN</td>\n",
       "      <td>NaN</td>\n",
       "      <td>NaN</td>\n",
       "      <td>NaN</td>\n",
       "      <td>...</td>\n",
       "      <td>NaN</td>\n",
       "      <td>NaN</td>\n",
       "      <td>NaN</td>\n",
       "      <td>NaN</td>\n",
       "      <td>NaN</td>\n",
       "      <td>NaN</td>\n",
       "      <td>NaN</td>\n",
       "      <td>NaN</td>\n",
       "      <td>NaN</td>\n",
       "      <td>NaN</td>\n",
       "    </tr>\n",
       "    <tr>\n",
       "      <th>1</th>\n",
       "      <td>462</td>\n",
       "      <td>Algeria</td>\n",
       "      <td>No</td>\n",
       "      <td>NaN</td>\n",
       "      <td>NaN</td>\n",
       "      <td>NaN</td>\n",
       "      <td>NaN</td>\n",
       "      <td>NaN</td>\n",
       "      <td>NaN</td>\n",
       "      <td>NaN</td>\n",
       "      <td>...</td>\n",
       "      <td>NaN</td>\n",
       "      <td>NaN</td>\n",
       "      <td>NaN</td>\n",
       "      <td>NaN</td>\n",
       "      <td>NaN</td>\n",
       "      <td>NaN</td>\n",
       "      <td>NaN</td>\n",
       "      <td>NaN</td>\n",
       "      <td>NaN</td>\n",
       "      <td>NaN</td>\n",
       "    </tr>\n",
       "    <tr>\n",
       "      <th>2</th>\n",
       "      <td>293</td>\n",
       "      <td>Egypt</td>\n",
       "      <td>Yes</td>\n",
       "      <td>Coursera</td>\n",
       "      <td>edX</td>\n",
       "      <td>NaN</td>\n",
       "      <td>DataCamp</td>\n",
       "      <td>NaN</td>\n",
       "      <td>Udacity</td>\n",
       "      <td>Udemy</td>\n",
       "      <td>...</td>\n",
       "      <td>NaN</td>\n",
       "      <td>Kaggle (notebooks, forums, etc)</td>\n",
       "      <td>NaN</td>\n",
       "      <td>YouTube (Kaggle YouTube, Cloud AI Adventures, ...</td>\n",
       "      <td>Podcasts (Chai Time Data Science, O’Reilly Dat...</td>\n",
       "      <td>NaN</td>\n",
       "      <td>NaN</td>\n",
       "      <td>NaN</td>\n",
       "      <td>NaN</td>\n",
       "      <td>NaN</td>\n",
       "    </tr>\n",
       "    <tr>\n",
       "      <th>3</th>\n",
       "      <td>851</td>\n",
       "      <td>France</td>\n",
       "      <td>No</td>\n",
       "      <td>Coursera</td>\n",
       "      <td>NaN</td>\n",
       "      <td>Kaggle Learn Courses</td>\n",
       "      <td>NaN</td>\n",
       "      <td>NaN</td>\n",
       "      <td>NaN</td>\n",
       "      <td>Udemy</td>\n",
       "      <td>...</td>\n",
       "      <td>NaN</td>\n",
       "      <td>Kaggle (notebooks, forums, etc)</td>\n",
       "      <td>Course Forums (forums.fast.ai, Coursera forums...</td>\n",
       "      <td>NaN</td>\n",
       "      <td>NaN</td>\n",
       "      <td>Blogs (Towards Data Science, Analytics Vidhya,...</td>\n",
       "      <td>NaN</td>\n",
       "      <td>NaN</td>\n",
       "      <td>NaN</td>\n",
       "      <td>NaN</td>\n",
       "    </tr>\n",
       "    <tr>\n",
       "      <th>4</th>\n",
       "      <td>232</td>\n",
       "      <td>India</td>\n",
       "      <td>Yes</td>\n",
       "      <td>NaN</td>\n",
       "      <td>NaN</td>\n",
       "      <td>NaN</td>\n",
       "      <td>NaN</td>\n",
       "      <td>NaN</td>\n",
       "      <td>NaN</td>\n",
       "      <td>NaN</td>\n",
       "      <td>...</td>\n",
       "      <td>NaN</td>\n",
       "      <td>NaN</td>\n",
       "      <td>NaN</td>\n",
       "      <td>NaN</td>\n",
       "      <td>NaN</td>\n",
       "      <td>Blogs (Towards Data Science, Analytics Vidhya,...</td>\n",
       "      <td>NaN</td>\n",
       "      <td>NaN</td>\n",
       "      <td>NaN</td>\n",
       "      <td>NaN</td>\n",
       "    </tr>\n",
       "  </tbody>\n",
       "</table>\n",
       "<p>5 rows × 294 columns</p>\n",
       "</div>"
      ],
      "text/plain": [
       "   Duration (in seconds) In which country do you currently reside?  \\\n",
       "0                    121                                     India   \n",
       "1                    462                                   Algeria   \n",
       "2                    293                                     Egypt   \n",
       "3                    851                                    France   \n",
       "4                    232                                     India   \n",
       "\n",
       "  Are you currently a student? (high school, university, or graduate)  \\\n",
       "0                                                 No                    \n",
       "1                                                 No                    \n",
       "2                                                Yes                    \n",
       "3                                                 No                    \n",
       "4                                                Yes                    \n",
       "\n",
       "  On which platforms have you begun or completed data science courses? (Select all that apply) - Selected Choice - Coursera  \\\n",
       "0                                                NaN                                                                          \n",
       "1                                                NaN                                                                          \n",
       "2                                           Coursera                                                                          \n",
       "3                                           Coursera                                                                          \n",
       "4                                                NaN                                                                          \n",
       "\n",
       "  On which platforms have you begun or completed data science courses? (Select all that apply) - Selected Choice - edX  \\\n",
       "0                                                NaN                                                                     \n",
       "1                                                NaN                                                                     \n",
       "2                                                edX                                                                     \n",
       "3                                                NaN                                                                     \n",
       "4                                                NaN                                                                     \n",
       "\n",
       "  On which platforms have you begun or completed data science courses? (Select all that apply) - Selected Choice - Kaggle Learn Courses  \\\n",
       "0                                                NaN                                                                                      \n",
       "1                                                NaN                                                                                      \n",
       "2                                                NaN                                                                                      \n",
       "3                               Kaggle Learn Courses                                                                                      \n",
       "4                                                NaN                                                                                      \n",
       "\n",
       "  On which platforms have you begun or completed data science courses? (Select all that apply) - Selected Choice - DataCamp  \\\n",
       "0                                                NaN                                                                          \n",
       "1                                                NaN                                                                          \n",
       "2                                           DataCamp                                                                          \n",
       "3                                                NaN                                                                          \n",
       "4                                                NaN                                                                          \n",
       "\n",
       "  On which platforms have you begun or completed data science courses? (Select all that apply) - Selected Choice - Fast.ai  \\\n",
       "0                                                NaN                                                                         \n",
       "1                                                NaN                                                                         \n",
       "2                                                NaN                                                                         \n",
       "3                                                NaN                                                                         \n",
       "4                                                NaN                                                                         \n",
       "\n",
       "  On which platforms have you begun or completed data science courses? (Select all that apply) - Selected Choice - Udacity  \\\n",
       "0                                                NaN                                                                         \n",
       "1                                                NaN                                                                         \n",
       "2                                            Udacity                                                                         \n",
       "3                                                NaN                                                                         \n",
       "4                                                NaN                                                                         \n",
       "\n",
       "  On which platforms have you begun or completed data science courses? (Select all that apply) - Selected Choice - Udemy  \\\n",
       "0                                                NaN                                                                       \n",
       "1                                                NaN                                                                       \n",
       "2                                              Udemy                                                                       \n",
       "3                                              Udemy                                                                       \n",
       "4                                                NaN                                                                       \n",
       "\n",
       "   ...  \\\n",
       "0  ...   \n",
       "1  ...   \n",
       "2  ...   \n",
       "3  ...   \n",
       "4  ...   \n",
       "\n",
       "  Who/what are your favorite media sources that report on data science topics? (Select all that apply) - Selected Choice - Reddit (r/machinelearning, etc)  \\\n",
       "0                                                NaN                                                                                                         \n",
       "1                                                NaN                                                                                                         \n",
       "2                                                NaN                                                                                                         \n",
       "3                                                NaN                                                                                                         \n",
       "4                                                NaN                                                                                                         \n",
       "\n",
       "  Who/what are your favorite media sources that report on data science topics? (Select all that apply) - Selected Choice - Kaggle (notebooks, forums, etc)  \\\n",
       "0                                                NaN                                                                                                         \n",
       "1                                                NaN                                                                                                         \n",
       "2                    Kaggle (notebooks, forums, etc)                                                                                                         \n",
       "3                    Kaggle (notebooks, forums, etc)                                                                                                         \n",
       "4                                                NaN                                                                                                         \n",
       "\n",
       "  Who/what are your favorite media sources that report on data science topics? (Select all that apply) - Selected Choice - Course Forums (forums.fast.ai, Coursera forums, etc)  \\\n",
       "0                                                NaN                                                                                                                              \n",
       "1                                                NaN                                                                                                                              \n",
       "2                                                NaN                                                                                                                              \n",
       "3  Course Forums (forums.fast.ai, Coursera forums...                                                                                                                              \n",
       "4                                                NaN                                                                                                                              \n",
       "\n",
       "  Who/what are your favorite media sources that report on data science topics? (Select all that apply) - Selected Choice - YouTube (Kaggle YouTube, Cloud AI Adventures, etc)  \\\n",
       "0                                                NaN                                                                                                                            \n",
       "1                                                NaN                                                                                                                            \n",
       "2  YouTube (Kaggle YouTube, Cloud AI Adventures, ...                                                                                                                            \n",
       "3                                                NaN                                                                                                                            \n",
       "4                                                NaN                                                                                                                            \n",
       "\n",
       "  Who/what are your favorite media sources that report on data science topics? (Select all that apply) - Selected Choice - Podcasts (Chai Time Data Science, O’Reilly Data Show, etc)  \\\n",
       "0                                                NaN                                                                                                                                    \n",
       "1                                                NaN                                                                                                                                    \n",
       "2  Podcasts (Chai Time Data Science, O’Reilly Dat...                                                                                                                                    \n",
       "3                                                NaN                                                                                                                                    \n",
       "4                                                NaN                                                                                                                                    \n",
       "\n",
       "  Who/what are your favorite media sources that report on data science topics? (Select all that apply) - Selected Choice - Blogs (Towards Data Science, Analytics Vidhya, etc)  \\\n",
       "0                                                NaN                                                                                                                             \n",
       "1                                                NaN                                                                                                                             \n",
       "2                                                NaN                                                                                                                             \n",
       "3  Blogs (Towards Data Science, Analytics Vidhya,...                                                                                                                             \n",
       "4  Blogs (Towards Data Science, Analytics Vidhya,...                                                                                                                             \n",
       "\n",
       "  Who/what are your favorite media sources that report on data science topics? (Select all that apply) - Selected Choice - Journal Publications (peer-reviewed journals, conference proceedings, etc)  \\\n",
       "0                                                NaN                                                                                                                                                    \n",
       "1                                                NaN                                                                                                                                                    \n",
       "2                                                NaN                                                                                                                                                    \n",
       "3                                                NaN                                                                                                                                                    \n",
       "4                                                NaN                                                                                                                                                    \n",
       "\n",
       "  Who/what are your favorite media sources that report on data science topics? (Select all that apply) - Selected Choice - Slack Communities (ods.ai, kagglenoobs, etc)  \\\n",
       "0                                                NaN                                                                                                                      \n",
       "1                                                NaN                                                                                                                      \n",
       "2                                                NaN                                                                                                                      \n",
       "3                                                NaN                                                                                                                      \n",
       "4                                                NaN                                                                                                                      \n",
       "\n",
       "  Who/what are your favorite media sources that report on data science topics? (Select all that apply) - Selected Choice - None  \\\n",
       "0                                                NaN                                                                              \n",
       "1                                                NaN                                                                              \n",
       "2                                                NaN                                                                              \n",
       "3                                                NaN                                                                              \n",
       "4                                                NaN                                                                              \n",
       "\n",
       "  Who/what are your favorite media sources that report on data science topics? (Select all that apply) - Selected Choice - Other  \n",
       "0                                                NaN                                                                              \n",
       "1                                                NaN                                                                              \n",
       "2                                                NaN                                                                              \n",
       "3                                                NaN                                                                              \n",
       "4                                                NaN                                                                              \n",
       "\n",
       "[5 rows x 294 columns]"
      ]
     },
     "execution_count": 4,
     "metadata": {},
     "output_type": "execute_result"
    }
   ],
   "source": [
    "df.drop(df.iloc[:, 1:2], inplace=True, axis=1)\n",
    "df.head()"
   ]
  },
  {
   "cell_type": "code",
   "execution_count": 5,
   "id": "d0c7f020",
   "metadata": {},
   "outputs": [
    {
     "data": {
      "text/html": [
       "<div>\n",
       "<style scoped>\n",
       "    .dataframe tbody tr th:only-of-type {\n",
       "        vertical-align: middle;\n",
       "    }\n",
       "\n",
       "    .dataframe tbody tr th {\n",
       "        vertical-align: top;\n",
       "    }\n",
       "\n",
       "    .dataframe thead th {\n",
       "        text-align: right;\n",
       "    }\n",
       "</style>\n",
       "<table border=\"1\" class=\"dataframe\">\n",
       "  <thead>\n",
       "    <tr style=\"text-align: right;\">\n",
       "      <th></th>\n",
       "      <th>Duration (in seconds)</th>\n",
       "      <th>Are you currently a student? (high school, university, or graduate)</th>\n",
       "      <th>On which platforms have you begun or completed data science courses? (Select all that apply) - Selected Choice - Coursera</th>\n",
       "      <th>On which platforms have you begun or completed data science courses? (Select all that apply) - Selected Choice - edX</th>\n",
       "      <th>On which platforms have you begun or completed data science courses? (Select all that apply) - Selected Choice - Kaggle Learn Courses</th>\n",
       "      <th>On which platforms have you begun or completed data science courses? (Select all that apply) - Selected Choice - DataCamp</th>\n",
       "      <th>On which platforms have you begun or completed data science courses? (Select all that apply) - Selected Choice - Fast.ai</th>\n",
       "      <th>On which platforms have you begun or completed data science courses? (Select all that apply) - Selected Choice - Udacity</th>\n",
       "      <th>On which platforms have you begun or completed data science courses? (Select all that apply) - Selected Choice - Udemy</th>\n",
       "      <th>On which platforms have you begun or completed data science courses? (Select all that apply) - Selected Choice - LinkedIn Learning</th>\n",
       "      <th>...</th>\n",
       "      <th>Who/what are your favorite media sources that report on data science topics? (Select all that apply) - Selected Choice - Reddit (r/machinelearning, etc)</th>\n",
       "      <th>Who/what are your favorite media sources that report on data science topics? (Select all that apply) - Selected Choice - Kaggle (notebooks, forums, etc)</th>\n",
       "      <th>Who/what are your favorite media sources that report on data science topics? (Select all that apply) - Selected Choice - Course Forums (forums.fast.ai, Coursera forums, etc)</th>\n",
       "      <th>Who/what are your favorite media sources that report on data science topics? (Select all that apply) - Selected Choice - YouTube (Kaggle YouTube, Cloud AI Adventures, etc)</th>\n",
       "      <th>Who/what are your favorite media sources that report on data science topics? (Select all that apply) - Selected Choice - Podcasts (Chai Time Data Science, O’Reilly Data Show, etc)</th>\n",
       "      <th>Who/what are your favorite media sources that report on data science topics? (Select all that apply) - Selected Choice - Blogs (Towards Data Science, Analytics Vidhya, etc)</th>\n",
       "      <th>Who/what are your favorite media sources that report on data science topics? (Select all that apply) - Selected Choice - Journal Publications (peer-reviewed journals, conference proceedings, etc)</th>\n",
       "      <th>Who/what are your favorite media sources that report on data science topics? (Select all that apply) - Selected Choice - Slack Communities (ods.ai, kagglenoobs, etc)</th>\n",
       "      <th>Who/what are your favorite media sources that report on data science topics? (Select all that apply) - Selected Choice - None</th>\n",
       "      <th>Who/what are your favorite media sources that report on data science topics? (Select all that apply) - Selected Choice - Other</th>\n",
       "    </tr>\n",
       "  </thead>\n",
       "  <tbody>\n",
       "    <tr>\n",
       "      <th>0</th>\n",
       "      <td>121</td>\n",
       "      <td>No</td>\n",
       "      <td>NaN</td>\n",
       "      <td>NaN</td>\n",
       "      <td>NaN</td>\n",
       "      <td>NaN</td>\n",
       "      <td>NaN</td>\n",
       "      <td>NaN</td>\n",
       "      <td>NaN</td>\n",
       "      <td>NaN</td>\n",
       "      <td>...</td>\n",
       "      <td>NaN</td>\n",
       "      <td>NaN</td>\n",
       "      <td>NaN</td>\n",
       "      <td>NaN</td>\n",
       "      <td>NaN</td>\n",
       "      <td>NaN</td>\n",
       "      <td>NaN</td>\n",
       "      <td>NaN</td>\n",
       "      <td>NaN</td>\n",
       "      <td>NaN</td>\n",
       "    </tr>\n",
       "    <tr>\n",
       "      <th>1</th>\n",
       "      <td>462</td>\n",
       "      <td>No</td>\n",
       "      <td>NaN</td>\n",
       "      <td>NaN</td>\n",
       "      <td>NaN</td>\n",
       "      <td>NaN</td>\n",
       "      <td>NaN</td>\n",
       "      <td>NaN</td>\n",
       "      <td>NaN</td>\n",
       "      <td>NaN</td>\n",
       "      <td>...</td>\n",
       "      <td>NaN</td>\n",
       "      <td>NaN</td>\n",
       "      <td>NaN</td>\n",
       "      <td>NaN</td>\n",
       "      <td>NaN</td>\n",
       "      <td>NaN</td>\n",
       "      <td>NaN</td>\n",
       "      <td>NaN</td>\n",
       "      <td>NaN</td>\n",
       "      <td>NaN</td>\n",
       "    </tr>\n",
       "    <tr>\n",
       "      <th>2</th>\n",
       "      <td>293</td>\n",
       "      <td>Yes</td>\n",
       "      <td>Coursera</td>\n",
       "      <td>edX</td>\n",
       "      <td>NaN</td>\n",
       "      <td>DataCamp</td>\n",
       "      <td>NaN</td>\n",
       "      <td>Udacity</td>\n",
       "      <td>Udemy</td>\n",
       "      <td>LinkedIn Learning</td>\n",
       "      <td>...</td>\n",
       "      <td>NaN</td>\n",
       "      <td>Kaggle (notebooks, forums, etc)</td>\n",
       "      <td>NaN</td>\n",
       "      <td>YouTube (Kaggle YouTube, Cloud AI Adventures, ...</td>\n",
       "      <td>Podcasts (Chai Time Data Science, O’Reilly Dat...</td>\n",
       "      <td>NaN</td>\n",
       "      <td>NaN</td>\n",
       "      <td>NaN</td>\n",
       "      <td>NaN</td>\n",
       "      <td>NaN</td>\n",
       "    </tr>\n",
       "    <tr>\n",
       "      <th>3</th>\n",
       "      <td>851</td>\n",
       "      <td>No</td>\n",
       "      <td>Coursera</td>\n",
       "      <td>NaN</td>\n",
       "      <td>Kaggle Learn Courses</td>\n",
       "      <td>NaN</td>\n",
       "      <td>NaN</td>\n",
       "      <td>NaN</td>\n",
       "      <td>Udemy</td>\n",
       "      <td>NaN</td>\n",
       "      <td>...</td>\n",
       "      <td>NaN</td>\n",
       "      <td>Kaggle (notebooks, forums, etc)</td>\n",
       "      <td>Course Forums (forums.fast.ai, Coursera forums...</td>\n",
       "      <td>NaN</td>\n",
       "      <td>NaN</td>\n",
       "      <td>Blogs (Towards Data Science, Analytics Vidhya,...</td>\n",
       "      <td>NaN</td>\n",
       "      <td>NaN</td>\n",
       "      <td>NaN</td>\n",
       "      <td>NaN</td>\n",
       "    </tr>\n",
       "    <tr>\n",
       "      <th>4</th>\n",
       "      <td>232</td>\n",
       "      <td>Yes</td>\n",
       "      <td>NaN</td>\n",
       "      <td>NaN</td>\n",
       "      <td>NaN</td>\n",
       "      <td>NaN</td>\n",
       "      <td>NaN</td>\n",
       "      <td>NaN</td>\n",
       "      <td>NaN</td>\n",
       "      <td>NaN</td>\n",
       "      <td>...</td>\n",
       "      <td>NaN</td>\n",
       "      <td>NaN</td>\n",
       "      <td>NaN</td>\n",
       "      <td>NaN</td>\n",
       "      <td>NaN</td>\n",
       "      <td>Blogs (Towards Data Science, Analytics Vidhya,...</td>\n",
       "      <td>NaN</td>\n",
       "      <td>NaN</td>\n",
       "      <td>NaN</td>\n",
       "      <td>NaN</td>\n",
       "    </tr>\n",
       "  </tbody>\n",
       "</table>\n",
       "<p>5 rows × 293 columns</p>\n",
       "</div>"
      ],
      "text/plain": [
       "   Duration (in seconds)  \\\n",
       "0                    121   \n",
       "1                    462   \n",
       "2                    293   \n",
       "3                    851   \n",
       "4                    232   \n",
       "\n",
       "  Are you currently a student? (high school, university, or graduate)  \\\n",
       "0                                                 No                    \n",
       "1                                                 No                    \n",
       "2                                                Yes                    \n",
       "3                                                 No                    \n",
       "4                                                Yes                    \n",
       "\n",
       "  On which platforms have you begun or completed data science courses? (Select all that apply) - Selected Choice - Coursera  \\\n",
       "0                                                NaN                                                                          \n",
       "1                                                NaN                                                                          \n",
       "2                                           Coursera                                                                          \n",
       "3                                           Coursera                                                                          \n",
       "4                                                NaN                                                                          \n",
       "\n",
       "  On which platforms have you begun or completed data science courses? (Select all that apply) - Selected Choice - edX  \\\n",
       "0                                                NaN                                                                     \n",
       "1                                                NaN                                                                     \n",
       "2                                                edX                                                                     \n",
       "3                                                NaN                                                                     \n",
       "4                                                NaN                                                                     \n",
       "\n",
       "  On which platforms have you begun or completed data science courses? (Select all that apply) - Selected Choice - Kaggle Learn Courses  \\\n",
       "0                                                NaN                                                                                      \n",
       "1                                                NaN                                                                                      \n",
       "2                                                NaN                                                                                      \n",
       "3                               Kaggle Learn Courses                                                                                      \n",
       "4                                                NaN                                                                                      \n",
       "\n",
       "  On which platforms have you begun or completed data science courses? (Select all that apply) - Selected Choice - DataCamp  \\\n",
       "0                                                NaN                                                                          \n",
       "1                                                NaN                                                                          \n",
       "2                                           DataCamp                                                                          \n",
       "3                                                NaN                                                                          \n",
       "4                                                NaN                                                                          \n",
       "\n",
       "  On which platforms have you begun or completed data science courses? (Select all that apply) - Selected Choice - Fast.ai  \\\n",
       "0                                                NaN                                                                         \n",
       "1                                                NaN                                                                         \n",
       "2                                                NaN                                                                         \n",
       "3                                                NaN                                                                         \n",
       "4                                                NaN                                                                         \n",
       "\n",
       "  On which platforms have you begun or completed data science courses? (Select all that apply) - Selected Choice - Udacity  \\\n",
       "0                                                NaN                                                                         \n",
       "1                                                NaN                                                                         \n",
       "2                                            Udacity                                                                         \n",
       "3                                                NaN                                                                         \n",
       "4                                                NaN                                                                         \n",
       "\n",
       "  On which platforms have you begun or completed data science courses? (Select all that apply) - Selected Choice - Udemy  \\\n",
       "0                                                NaN                                                                       \n",
       "1                                                NaN                                                                       \n",
       "2                                              Udemy                                                                       \n",
       "3                                              Udemy                                                                       \n",
       "4                                                NaN                                                                       \n",
       "\n",
       "  On which platforms have you begun or completed data science courses? (Select all that apply) - Selected Choice - LinkedIn Learning  \\\n",
       "0                                                NaN                                                                                   \n",
       "1                                                NaN                                                                                   \n",
       "2                                  LinkedIn Learning                                                                                   \n",
       "3                                                NaN                                                                                   \n",
       "4                                                NaN                                                                                   \n",
       "\n",
       "   ...  \\\n",
       "0  ...   \n",
       "1  ...   \n",
       "2  ...   \n",
       "3  ...   \n",
       "4  ...   \n",
       "\n",
       "  Who/what are your favorite media sources that report on data science topics? (Select all that apply) - Selected Choice - Reddit (r/machinelearning, etc)  \\\n",
       "0                                                NaN                                                                                                         \n",
       "1                                                NaN                                                                                                         \n",
       "2                                                NaN                                                                                                         \n",
       "3                                                NaN                                                                                                         \n",
       "4                                                NaN                                                                                                         \n",
       "\n",
       "  Who/what are your favorite media sources that report on data science topics? (Select all that apply) - Selected Choice - Kaggle (notebooks, forums, etc)  \\\n",
       "0                                                NaN                                                                                                         \n",
       "1                                                NaN                                                                                                         \n",
       "2                    Kaggle (notebooks, forums, etc)                                                                                                         \n",
       "3                    Kaggle (notebooks, forums, etc)                                                                                                         \n",
       "4                                                NaN                                                                                                         \n",
       "\n",
       "  Who/what are your favorite media sources that report on data science topics? (Select all that apply) - Selected Choice - Course Forums (forums.fast.ai, Coursera forums, etc)  \\\n",
       "0                                                NaN                                                                                                                              \n",
       "1                                                NaN                                                                                                                              \n",
       "2                                                NaN                                                                                                                              \n",
       "3  Course Forums (forums.fast.ai, Coursera forums...                                                                                                                              \n",
       "4                                                NaN                                                                                                                              \n",
       "\n",
       "  Who/what are your favorite media sources that report on data science topics? (Select all that apply) - Selected Choice - YouTube (Kaggle YouTube, Cloud AI Adventures, etc)  \\\n",
       "0                                                NaN                                                                                                                            \n",
       "1                                                NaN                                                                                                                            \n",
       "2  YouTube (Kaggle YouTube, Cloud AI Adventures, ...                                                                                                                            \n",
       "3                                                NaN                                                                                                                            \n",
       "4                                                NaN                                                                                                                            \n",
       "\n",
       "  Who/what are your favorite media sources that report on data science topics? (Select all that apply) - Selected Choice - Podcasts (Chai Time Data Science, O’Reilly Data Show, etc)  \\\n",
       "0                                                NaN                                                                                                                                    \n",
       "1                                                NaN                                                                                                                                    \n",
       "2  Podcasts (Chai Time Data Science, O’Reilly Dat...                                                                                                                                    \n",
       "3                                                NaN                                                                                                                                    \n",
       "4                                                NaN                                                                                                                                    \n",
       "\n",
       "  Who/what are your favorite media sources that report on data science topics? (Select all that apply) - Selected Choice - Blogs (Towards Data Science, Analytics Vidhya, etc)  \\\n",
       "0                                                NaN                                                                                                                             \n",
       "1                                                NaN                                                                                                                             \n",
       "2                                                NaN                                                                                                                             \n",
       "3  Blogs (Towards Data Science, Analytics Vidhya,...                                                                                                                             \n",
       "4  Blogs (Towards Data Science, Analytics Vidhya,...                                                                                                                             \n",
       "\n",
       "  Who/what are your favorite media sources that report on data science topics? (Select all that apply) - Selected Choice - Journal Publications (peer-reviewed journals, conference proceedings, etc)  \\\n",
       "0                                                NaN                                                                                                                                                    \n",
       "1                                                NaN                                                                                                                                                    \n",
       "2                                                NaN                                                                                                                                                    \n",
       "3                                                NaN                                                                                                                                                    \n",
       "4                                                NaN                                                                                                                                                    \n",
       "\n",
       "  Who/what are your favorite media sources that report on data science topics? (Select all that apply) - Selected Choice - Slack Communities (ods.ai, kagglenoobs, etc)  \\\n",
       "0                                                NaN                                                                                                                      \n",
       "1                                                NaN                                                                                                                      \n",
       "2                                                NaN                                                                                                                      \n",
       "3                                                NaN                                                                                                                      \n",
       "4                                                NaN                                                                                                                      \n",
       "\n",
       "  Who/what are your favorite media sources that report on data science topics? (Select all that apply) - Selected Choice - None  \\\n",
       "0                                                NaN                                                                              \n",
       "1                                                NaN                                                                              \n",
       "2                                                NaN                                                                              \n",
       "3                                                NaN                                                                              \n",
       "4                                                NaN                                                                              \n",
       "\n",
       "  Who/what are your favorite media sources that report on data science topics? (Select all that apply) - Selected Choice - Other  \n",
       "0                                                NaN                                                                              \n",
       "1                                                NaN                                                                              \n",
       "2                                                NaN                                                                              \n",
       "3                                                NaN                                                                              \n",
       "4                                                NaN                                                                              \n",
       "\n",
       "[5 rows x 293 columns]"
      ]
     },
     "execution_count": 5,
     "metadata": {},
     "output_type": "execute_result"
    }
   ],
   "source": [
    "df.drop(df.iloc[:, 1:2], inplace=True, axis=1)\n",
    "df.head()"
   ]
  },
  {
   "cell_type": "code",
   "execution_count": 6,
   "id": "cd550636",
   "metadata": {},
   "outputs": [
    {
     "data": {
      "text/html": [
       "<div>\n",
       "<style scoped>\n",
       "    .dataframe tbody tr th:only-of-type {\n",
       "        vertical-align: middle;\n",
       "    }\n",
       "\n",
       "    .dataframe tbody tr th {\n",
       "        vertical-align: top;\n",
       "    }\n",
       "\n",
       "    .dataframe thead th {\n",
       "        text-align: right;\n",
       "    }\n",
       "</style>\n",
       "<table border=\"1\" class=\"dataframe\">\n",
       "  <thead>\n",
       "    <tr style=\"text-align: right;\">\n",
       "      <th></th>\n",
       "      <th>Duration (in seconds)</th>\n",
       "      <th>Are you currently a student? (high school, university, or graduate)</th>\n",
       "      <th>On which platforms have you begun or completed data science courses? (Select all that apply) - Selected Choice - Coursera</th>\n",
       "      <th>On which platforms have you begun or completed data science courses? (Select all that apply) - Selected Choice - edX</th>\n",
       "      <th>On which platforms have you begun or completed data science courses? (Select all that apply) - Selected Choice - Kaggle Learn Courses</th>\n",
       "      <th>On which platforms have you begun or completed data science courses? (Select all that apply) - Selected Choice - DataCamp</th>\n",
       "      <th>On which platforms have you begun or completed data science courses? (Select all that apply) - Selected Choice - Fast.ai</th>\n",
       "      <th>On which platforms have you begun or completed data science courses? (Select all that apply) - Selected Choice - Udacity</th>\n",
       "      <th>On which platforms have you begun or completed data science courses? (Select all that apply) - Selected Choice - Udemy</th>\n",
       "      <th>On which platforms have you begun or completed data science courses? (Select all that apply) - Selected Choice - LinkedIn Learning</th>\n",
       "      <th>...</th>\n",
       "      <th>Who/what are your favorite media sources that report on data science topics? (Select all that apply) - Selected Choice - Reddit (r/machinelearning, etc)</th>\n",
       "      <th>Who/what are your favorite media sources that report on data science topics? (Select all that apply) - Selected Choice - Kaggle (notebooks, forums, etc)</th>\n",
       "      <th>Who/what are your favorite media sources that report on data science topics? (Select all that apply) - Selected Choice - Course Forums (forums.fast.ai, Coursera forums, etc)</th>\n",
       "      <th>Who/what are your favorite media sources that report on data science topics? (Select all that apply) - Selected Choice - YouTube (Kaggle YouTube, Cloud AI Adventures, etc)</th>\n",
       "      <th>Who/what are your favorite media sources that report on data science topics? (Select all that apply) - Selected Choice - Podcasts (Chai Time Data Science, O’Reilly Data Show, etc)</th>\n",
       "      <th>Who/what are your favorite media sources that report on data science topics? (Select all that apply) - Selected Choice - Blogs (Towards Data Science, Analytics Vidhya, etc)</th>\n",
       "      <th>Who/what are your favorite media sources that report on data science topics? (Select all that apply) - Selected Choice - Journal Publications (peer-reviewed journals, conference proceedings, etc)</th>\n",
       "      <th>Who/what are your favorite media sources that report on data science topics? (Select all that apply) - Selected Choice - Slack Communities (ods.ai, kagglenoobs, etc)</th>\n",
       "      <th>Who/what are your favorite media sources that report on data science topics? (Select all that apply) - Selected Choice - None</th>\n",
       "      <th>Who/what are your favorite media sources that report on data science topics? (Select all that apply) - Selected Choice - Other</th>\n",
       "    </tr>\n",
       "  </thead>\n",
       "  <tbody>\n",
       "    <tr>\n",
       "      <th>0</th>\n",
       "      <td>121</td>\n",
       "      <td>No</td>\n",
       "      <td>NaN</td>\n",
       "      <td>NaN</td>\n",
       "      <td>NaN</td>\n",
       "      <td>NaN</td>\n",
       "      <td>NaN</td>\n",
       "      <td>NaN</td>\n",
       "      <td>NaN</td>\n",
       "      <td>NaN</td>\n",
       "      <td>...</td>\n",
       "      <td>NaN</td>\n",
       "      <td>NaN</td>\n",
       "      <td>NaN</td>\n",
       "      <td>NaN</td>\n",
       "      <td>NaN</td>\n",
       "      <td>NaN</td>\n",
       "      <td>NaN</td>\n",
       "      <td>NaN</td>\n",
       "      <td>NaN</td>\n",
       "      <td>NaN</td>\n",
       "    </tr>\n",
       "    <tr>\n",
       "      <th>1</th>\n",
       "      <td>462</td>\n",
       "      <td>No</td>\n",
       "      <td>NaN</td>\n",
       "      <td>NaN</td>\n",
       "      <td>NaN</td>\n",
       "      <td>NaN</td>\n",
       "      <td>NaN</td>\n",
       "      <td>NaN</td>\n",
       "      <td>NaN</td>\n",
       "      <td>NaN</td>\n",
       "      <td>...</td>\n",
       "      <td>NaN</td>\n",
       "      <td>NaN</td>\n",
       "      <td>NaN</td>\n",
       "      <td>NaN</td>\n",
       "      <td>NaN</td>\n",
       "      <td>NaN</td>\n",
       "      <td>NaN</td>\n",
       "      <td>NaN</td>\n",
       "      <td>NaN</td>\n",
       "      <td>NaN</td>\n",
       "    </tr>\n",
       "    <tr>\n",
       "      <th>2</th>\n",
       "      <td>293</td>\n",
       "      <td>Yes</td>\n",
       "      <td>Coursera</td>\n",
       "      <td>edX</td>\n",
       "      <td>NaN</td>\n",
       "      <td>DataCamp</td>\n",
       "      <td>NaN</td>\n",
       "      <td>Udacity</td>\n",
       "      <td>Udemy</td>\n",
       "      <td>LinkedIn Learning</td>\n",
       "      <td>...</td>\n",
       "      <td>NaN</td>\n",
       "      <td>Kaggle (notebooks, forums, etc)</td>\n",
       "      <td>NaN</td>\n",
       "      <td>YouTube (Kaggle YouTube, Cloud AI Adventures, ...</td>\n",
       "      <td>Podcasts (Chai Time Data Science, O’Reilly Dat...</td>\n",
       "      <td>NaN</td>\n",
       "      <td>NaN</td>\n",
       "      <td>NaN</td>\n",
       "      <td>NaN</td>\n",
       "      <td>NaN</td>\n",
       "    </tr>\n",
       "    <tr>\n",
       "      <th>3</th>\n",
       "      <td>851</td>\n",
       "      <td>No</td>\n",
       "      <td>Coursera</td>\n",
       "      <td>NaN</td>\n",
       "      <td>Kaggle Learn Courses</td>\n",
       "      <td>NaN</td>\n",
       "      <td>NaN</td>\n",
       "      <td>NaN</td>\n",
       "      <td>Udemy</td>\n",
       "      <td>NaN</td>\n",
       "      <td>...</td>\n",
       "      <td>NaN</td>\n",
       "      <td>Kaggle (notebooks, forums, etc)</td>\n",
       "      <td>Course Forums (forums.fast.ai, Coursera forums...</td>\n",
       "      <td>NaN</td>\n",
       "      <td>NaN</td>\n",
       "      <td>Blogs (Towards Data Science, Analytics Vidhya,...</td>\n",
       "      <td>NaN</td>\n",
       "      <td>NaN</td>\n",
       "      <td>NaN</td>\n",
       "      <td>NaN</td>\n",
       "    </tr>\n",
       "    <tr>\n",
       "      <th>4</th>\n",
       "      <td>232</td>\n",
       "      <td>Yes</td>\n",
       "      <td>NaN</td>\n",
       "      <td>NaN</td>\n",
       "      <td>NaN</td>\n",
       "      <td>NaN</td>\n",
       "      <td>NaN</td>\n",
       "      <td>NaN</td>\n",
       "      <td>NaN</td>\n",
       "      <td>NaN</td>\n",
       "      <td>...</td>\n",
       "      <td>NaN</td>\n",
       "      <td>NaN</td>\n",
       "      <td>NaN</td>\n",
       "      <td>NaN</td>\n",
       "      <td>NaN</td>\n",
       "      <td>Blogs (Towards Data Science, Analytics Vidhya,...</td>\n",
       "      <td>NaN</td>\n",
       "      <td>NaN</td>\n",
       "      <td>NaN</td>\n",
       "      <td>NaN</td>\n",
       "    </tr>\n",
       "  </tbody>\n",
       "</table>\n",
       "<p>5 rows × 292 columns</p>\n",
       "</div>"
      ],
      "text/plain": [
       "   Duration (in seconds)  \\\n",
       "0                    121   \n",
       "1                    462   \n",
       "2                    293   \n",
       "3                    851   \n",
       "4                    232   \n",
       "\n",
       "  Are you currently a student? (high school, university, or graduate)  \\\n",
       "0                                                 No                    \n",
       "1                                                 No                    \n",
       "2                                                Yes                    \n",
       "3                                                 No                    \n",
       "4                                                Yes                    \n",
       "\n",
       "  On which platforms have you begun or completed data science courses? (Select all that apply) - Selected Choice - Coursera  \\\n",
       "0                                                NaN                                                                          \n",
       "1                                                NaN                                                                          \n",
       "2                                           Coursera                                                                          \n",
       "3                                           Coursera                                                                          \n",
       "4                                                NaN                                                                          \n",
       "\n",
       "  On which platforms have you begun or completed data science courses? (Select all that apply) - Selected Choice - edX  \\\n",
       "0                                                NaN                                                                     \n",
       "1                                                NaN                                                                     \n",
       "2                                                edX                                                                     \n",
       "3                                                NaN                                                                     \n",
       "4                                                NaN                                                                     \n",
       "\n",
       "  On which platforms have you begun or completed data science courses? (Select all that apply) - Selected Choice - Kaggle Learn Courses  \\\n",
       "0                                                NaN                                                                                      \n",
       "1                                                NaN                                                                                      \n",
       "2                                                NaN                                                                                      \n",
       "3                               Kaggle Learn Courses                                                                                      \n",
       "4                                                NaN                                                                                      \n",
       "\n",
       "  On which platforms have you begun or completed data science courses? (Select all that apply) - Selected Choice - DataCamp  \\\n",
       "0                                                NaN                                                                          \n",
       "1                                                NaN                                                                          \n",
       "2                                           DataCamp                                                                          \n",
       "3                                                NaN                                                                          \n",
       "4                                                NaN                                                                          \n",
       "\n",
       "  On which platforms have you begun or completed data science courses? (Select all that apply) - Selected Choice - Fast.ai  \\\n",
       "0                                                NaN                                                                         \n",
       "1                                                NaN                                                                         \n",
       "2                                                NaN                                                                         \n",
       "3                                                NaN                                                                         \n",
       "4                                                NaN                                                                         \n",
       "\n",
       "  On which platforms have you begun or completed data science courses? (Select all that apply) - Selected Choice - Udacity  \\\n",
       "0                                                NaN                                                                         \n",
       "1                                                NaN                                                                         \n",
       "2                                            Udacity                                                                         \n",
       "3                                                NaN                                                                         \n",
       "4                                                NaN                                                                         \n",
       "\n",
       "  On which platforms have you begun or completed data science courses? (Select all that apply) - Selected Choice - Udemy  \\\n",
       "0                                                NaN                                                                       \n",
       "1                                                NaN                                                                       \n",
       "2                                              Udemy                                                                       \n",
       "3                                              Udemy                                                                       \n",
       "4                                                NaN                                                                       \n",
       "\n",
       "  On which platforms have you begun or completed data science courses? (Select all that apply) - Selected Choice - LinkedIn Learning  \\\n",
       "0                                                NaN                                                                                   \n",
       "1                                                NaN                                                                                   \n",
       "2                                  LinkedIn Learning                                                                                   \n",
       "3                                                NaN                                                                                   \n",
       "4                                                NaN                                                                                   \n",
       "\n",
       "   ...  \\\n",
       "0  ...   \n",
       "1  ...   \n",
       "2  ...   \n",
       "3  ...   \n",
       "4  ...   \n",
       "\n",
       "  Who/what are your favorite media sources that report on data science topics? (Select all that apply) - Selected Choice - Reddit (r/machinelearning, etc)  \\\n",
       "0                                                NaN                                                                                                         \n",
       "1                                                NaN                                                                                                         \n",
       "2                                                NaN                                                                                                         \n",
       "3                                                NaN                                                                                                         \n",
       "4                                                NaN                                                                                                         \n",
       "\n",
       "  Who/what are your favorite media sources that report on data science topics? (Select all that apply) - Selected Choice - Kaggle (notebooks, forums, etc)  \\\n",
       "0                                                NaN                                                                                                         \n",
       "1                                                NaN                                                                                                         \n",
       "2                    Kaggle (notebooks, forums, etc)                                                                                                         \n",
       "3                    Kaggle (notebooks, forums, etc)                                                                                                         \n",
       "4                                                NaN                                                                                                         \n",
       "\n",
       "  Who/what are your favorite media sources that report on data science topics? (Select all that apply) - Selected Choice - Course Forums (forums.fast.ai, Coursera forums, etc)  \\\n",
       "0                                                NaN                                                                                                                              \n",
       "1                                                NaN                                                                                                                              \n",
       "2                                                NaN                                                                                                                              \n",
       "3  Course Forums (forums.fast.ai, Coursera forums...                                                                                                                              \n",
       "4                                                NaN                                                                                                                              \n",
       "\n",
       "  Who/what are your favorite media sources that report on data science topics? (Select all that apply) - Selected Choice - YouTube (Kaggle YouTube, Cloud AI Adventures, etc)  \\\n",
       "0                                                NaN                                                                                                                            \n",
       "1                                                NaN                                                                                                                            \n",
       "2  YouTube (Kaggle YouTube, Cloud AI Adventures, ...                                                                                                                            \n",
       "3                                                NaN                                                                                                                            \n",
       "4                                                NaN                                                                                                                            \n",
       "\n",
       "  Who/what are your favorite media sources that report on data science topics? (Select all that apply) - Selected Choice - Podcasts (Chai Time Data Science, O’Reilly Data Show, etc)  \\\n",
       "0                                                NaN                                                                                                                                    \n",
       "1                                                NaN                                                                                                                                    \n",
       "2  Podcasts (Chai Time Data Science, O’Reilly Dat...                                                                                                                                    \n",
       "3                                                NaN                                                                                                                                    \n",
       "4                                                NaN                                                                                                                                    \n",
       "\n",
       "  Who/what are your favorite media sources that report on data science topics? (Select all that apply) - Selected Choice - Blogs (Towards Data Science, Analytics Vidhya, etc)  \\\n",
       "0                                                NaN                                                                                                                             \n",
       "1                                                NaN                                                                                                                             \n",
       "2                                                NaN                                                                                                                             \n",
       "3  Blogs (Towards Data Science, Analytics Vidhya,...                                                                                                                             \n",
       "4  Blogs (Towards Data Science, Analytics Vidhya,...                                                                                                                             \n",
       "\n",
       "  Who/what are your favorite media sources that report on data science topics? (Select all that apply) - Selected Choice - Journal Publications (peer-reviewed journals, conference proceedings, etc)  \\\n",
       "0                                                NaN                                                                                                                                                    \n",
       "1                                                NaN                                                                                                                                                    \n",
       "2                                                NaN                                                                                                                                                    \n",
       "3                                                NaN                                                                                                                                                    \n",
       "4                                                NaN                                                                                                                                                    \n",
       "\n",
       "  Who/what are your favorite media sources that report on data science topics? (Select all that apply) - Selected Choice - Slack Communities (ods.ai, kagglenoobs, etc)  \\\n",
       "0                                                NaN                                                                                                                      \n",
       "1                                                NaN                                                                                                                      \n",
       "2                                                NaN                                                                                                                      \n",
       "3                                                NaN                                                                                                                      \n",
       "4                                                NaN                                                                                                                      \n",
       "\n",
       "  Who/what are your favorite media sources that report on data science topics? (Select all that apply) - Selected Choice - None  \\\n",
       "0                                                NaN                                                                              \n",
       "1                                                NaN                                                                              \n",
       "2                                                NaN                                                                              \n",
       "3                                                NaN                                                                              \n",
       "4                                                NaN                                                                              \n",
       "\n",
       "  Who/what are your favorite media sources that report on data science topics? (Select all that apply) - Selected Choice - Other  \n",
       "0                                                NaN                                                                              \n",
       "1                                                NaN                                                                              \n",
       "2                                                NaN                                                                              \n",
       "3                                                NaN                                                                              \n",
       "4                                                NaN                                                                              \n",
       "\n",
       "[5 rows x 292 columns]"
      ]
     },
     "execution_count": 6,
     "metadata": {},
     "output_type": "execute_result"
    }
   ],
   "source": [
    "df.drop(df.iloc[:, 22:23], inplace=True, axis=1)\n",
    "df.head()"
   ]
  },
  {
   "cell_type": "code",
   "execution_count": 7,
   "id": "19029992",
   "metadata": {},
   "outputs": [
    {
     "data": {
      "text/html": [
       "<div>\n",
       "<style scoped>\n",
       "    .dataframe tbody tr th:only-of-type {\n",
       "        vertical-align: middle;\n",
       "    }\n",
       "\n",
       "    .dataframe tbody tr th {\n",
       "        vertical-align: top;\n",
       "    }\n",
       "\n",
       "    .dataframe thead th {\n",
       "        text-align: right;\n",
       "    }\n",
       "</style>\n",
       "<table border=\"1\" class=\"dataframe\">\n",
       "  <thead>\n",
       "    <tr style=\"text-align: right;\">\n",
       "      <th></th>\n",
       "      <th>Duration (in seconds)</th>\n",
       "      <th>Are you currently a student? (high school, university, or graduate)</th>\n",
       "      <th>On which platforms have you begun or completed data science courses? (Select all that apply) - Selected Choice - Coursera</th>\n",
       "      <th>On which platforms have you begun or completed data science courses? (Select all that apply) - Selected Choice - edX</th>\n",
       "      <th>On which platforms have you begun or completed data science courses? (Select all that apply) - Selected Choice - Kaggle Learn Courses</th>\n",
       "      <th>On which platforms have you begun or completed data science courses? (Select all that apply) - Selected Choice - DataCamp</th>\n",
       "      <th>On which platforms have you begun or completed data science courses? (Select all that apply) - Selected Choice - Fast.ai</th>\n",
       "      <th>On which platforms have you begun or completed data science courses? (Select all that apply) - Selected Choice - Udacity</th>\n",
       "      <th>On which platforms have you begun or completed data science courses? (Select all that apply) - Selected Choice - Udemy</th>\n",
       "      <th>On which platforms have you begun or completed data science courses? (Select all that apply) - Selected Choice - LinkedIn Learning</th>\n",
       "      <th>...</th>\n",
       "      <th>Who/what are your favorite media sources that report on data science topics? (Select all that apply) - Selected Choice - Reddit (r/machinelearning, etc)</th>\n",
       "      <th>Who/what are your favorite media sources that report on data science topics? (Select all that apply) - Selected Choice - Kaggle (notebooks, forums, etc)</th>\n",
       "      <th>Who/what are your favorite media sources that report on data science topics? (Select all that apply) - Selected Choice - Course Forums (forums.fast.ai, Coursera forums, etc)</th>\n",
       "      <th>Who/what are your favorite media sources that report on data science topics? (Select all that apply) - Selected Choice - YouTube (Kaggle YouTube, Cloud AI Adventures, etc)</th>\n",
       "      <th>Who/what are your favorite media sources that report on data science topics? (Select all that apply) - Selected Choice - Podcasts (Chai Time Data Science, O’Reilly Data Show, etc)</th>\n",
       "      <th>Who/what are your favorite media sources that report on data science topics? (Select all that apply) - Selected Choice - Blogs (Towards Data Science, Analytics Vidhya, etc)</th>\n",
       "      <th>Who/what are your favorite media sources that report on data science topics? (Select all that apply) - Selected Choice - Journal Publications (peer-reviewed journals, conference proceedings, etc)</th>\n",
       "      <th>Who/what are your favorite media sources that report on data science topics? (Select all that apply) - Selected Choice - Slack Communities (ods.ai, kagglenoobs, etc)</th>\n",
       "      <th>Who/what are your favorite media sources that report on data science topics? (Select all that apply) - Selected Choice - None</th>\n",
       "      <th>Who/what are your favorite media sources that report on data science topics? (Select all that apply) - Selected Choice - Other</th>\n",
       "    </tr>\n",
       "  </thead>\n",
       "  <tbody>\n",
       "    <tr>\n",
       "      <th>0</th>\n",
       "      <td>121</td>\n",
       "      <td>No</td>\n",
       "      <td>NaN</td>\n",
       "      <td>NaN</td>\n",
       "      <td>NaN</td>\n",
       "      <td>NaN</td>\n",
       "      <td>NaN</td>\n",
       "      <td>NaN</td>\n",
       "      <td>NaN</td>\n",
       "      <td>NaN</td>\n",
       "      <td>...</td>\n",
       "      <td>NaN</td>\n",
       "      <td>NaN</td>\n",
       "      <td>NaN</td>\n",
       "      <td>NaN</td>\n",
       "      <td>NaN</td>\n",
       "      <td>NaN</td>\n",
       "      <td>NaN</td>\n",
       "      <td>NaN</td>\n",
       "      <td>NaN</td>\n",
       "      <td>NaN</td>\n",
       "    </tr>\n",
       "    <tr>\n",
       "      <th>1</th>\n",
       "      <td>462</td>\n",
       "      <td>No</td>\n",
       "      <td>NaN</td>\n",
       "      <td>NaN</td>\n",
       "      <td>NaN</td>\n",
       "      <td>NaN</td>\n",
       "      <td>NaN</td>\n",
       "      <td>NaN</td>\n",
       "      <td>NaN</td>\n",
       "      <td>NaN</td>\n",
       "      <td>...</td>\n",
       "      <td>NaN</td>\n",
       "      <td>NaN</td>\n",
       "      <td>NaN</td>\n",
       "      <td>NaN</td>\n",
       "      <td>NaN</td>\n",
       "      <td>NaN</td>\n",
       "      <td>NaN</td>\n",
       "      <td>NaN</td>\n",
       "      <td>NaN</td>\n",
       "      <td>NaN</td>\n",
       "    </tr>\n",
       "    <tr>\n",
       "      <th>2</th>\n",
       "      <td>293</td>\n",
       "      <td>Yes</td>\n",
       "      <td>Coursera</td>\n",
       "      <td>edX</td>\n",
       "      <td>NaN</td>\n",
       "      <td>DataCamp</td>\n",
       "      <td>NaN</td>\n",
       "      <td>Udacity</td>\n",
       "      <td>Udemy</td>\n",
       "      <td>LinkedIn Learning</td>\n",
       "      <td>...</td>\n",
       "      <td>NaN</td>\n",
       "      <td>Kaggle (notebooks, forums, etc)</td>\n",
       "      <td>NaN</td>\n",
       "      <td>YouTube (Kaggle YouTube, Cloud AI Adventures, ...</td>\n",
       "      <td>Podcasts (Chai Time Data Science, O’Reilly Dat...</td>\n",
       "      <td>NaN</td>\n",
       "      <td>NaN</td>\n",
       "      <td>NaN</td>\n",
       "      <td>NaN</td>\n",
       "      <td>NaN</td>\n",
       "    </tr>\n",
       "    <tr>\n",
       "      <th>3</th>\n",
       "      <td>851</td>\n",
       "      <td>No</td>\n",
       "      <td>Coursera</td>\n",
       "      <td>NaN</td>\n",
       "      <td>Kaggle Learn Courses</td>\n",
       "      <td>NaN</td>\n",
       "      <td>NaN</td>\n",
       "      <td>NaN</td>\n",
       "      <td>Udemy</td>\n",
       "      <td>NaN</td>\n",
       "      <td>...</td>\n",
       "      <td>NaN</td>\n",
       "      <td>Kaggle (notebooks, forums, etc)</td>\n",
       "      <td>Course Forums (forums.fast.ai, Coursera forums...</td>\n",
       "      <td>NaN</td>\n",
       "      <td>NaN</td>\n",
       "      <td>Blogs (Towards Data Science, Analytics Vidhya,...</td>\n",
       "      <td>NaN</td>\n",
       "      <td>NaN</td>\n",
       "      <td>NaN</td>\n",
       "      <td>NaN</td>\n",
       "    </tr>\n",
       "    <tr>\n",
       "      <th>4</th>\n",
       "      <td>232</td>\n",
       "      <td>Yes</td>\n",
       "      <td>NaN</td>\n",
       "      <td>NaN</td>\n",
       "      <td>NaN</td>\n",
       "      <td>NaN</td>\n",
       "      <td>NaN</td>\n",
       "      <td>NaN</td>\n",
       "      <td>NaN</td>\n",
       "      <td>NaN</td>\n",
       "      <td>...</td>\n",
       "      <td>NaN</td>\n",
       "      <td>NaN</td>\n",
       "      <td>NaN</td>\n",
       "      <td>NaN</td>\n",
       "      <td>NaN</td>\n",
       "      <td>Blogs (Towards Data Science, Analytics Vidhya,...</td>\n",
       "      <td>NaN</td>\n",
       "      <td>NaN</td>\n",
       "      <td>NaN</td>\n",
       "      <td>NaN</td>\n",
       "    </tr>\n",
       "  </tbody>\n",
       "</table>\n",
       "<p>5 rows × 252 columns</p>\n",
       "</div>"
      ],
      "text/plain": [
       "   Duration (in seconds)  \\\n",
       "0                    121   \n",
       "1                    462   \n",
       "2                    293   \n",
       "3                    851   \n",
       "4                    232   \n",
       "\n",
       "  Are you currently a student? (high school, university, or graduate)  \\\n",
       "0                                                 No                    \n",
       "1                                                 No                    \n",
       "2                                                Yes                    \n",
       "3                                                 No                    \n",
       "4                                                Yes                    \n",
       "\n",
       "  On which platforms have you begun or completed data science courses? (Select all that apply) - Selected Choice - Coursera  \\\n",
       "0                                                NaN                                                                          \n",
       "1                                                NaN                                                                          \n",
       "2                                           Coursera                                                                          \n",
       "3                                           Coursera                                                                          \n",
       "4                                                NaN                                                                          \n",
       "\n",
       "  On which platforms have you begun or completed data science courses? (Select all that apply) - Selected Choice - edX  \\\n",
       "0                                                NaN                                                                     \n",
       "1                                                NaN                                                                     \n",
       "2                                                edX                                                                     \n",
       "3                                                NaN                                                                     \n",
       "4                                                NaN                                                                     \n",
       "\n",
       "  On which platforms have you begun or completed data science courses? (Select all that apply) - Selected Choice - Kaggle Learn Courses  \\\n",
       "0                                                NaN                                                                                      \n",
       "1                                                NaN                                                                                      \n",
       "2                                                NaN                                                                                      \n",
       "3                               Kaggle Learn Courses                                                                                      \n",
       "4                                                NaN                                                                                      \n",
       "\n",
       "  On which platforms have you begun or completed data science courses? (Select all that apply) - Selected Choice - DataCamp  \\\n",
       "0                                                NaN                                                                          \n",
       "1                                                NaN                                                                          \n",
       "2                                           DataCamp                                                                          \n",
       "3                                                NaN                                                                          \n",
       "4                                                NaN                                                                          \n",
       "\n",
       "  On which platforms have you begun or completed data science courses? (Select all that apply) - Selected Choice - Fast.ai  \\\n",
       "0                                                NaN                                                                         \n",
       "1                                                NaN                                                                         \n",
       "2                                                NaN                                                                         \n",
       "3                                                NaN                                                                         \n",
       "4                                                NaN                                                                         \n",
       "\n",
       "  On which platforms have you begun or completed data science courses? (Select all that apply) - Selected Choice - Udacity  \\\n",
       "0                                                NaN                                                                         \n",
       "1                                                NaN                                                                         \n",
       "2                                            Udacity                                                                         \n",
       "3                                                NaN                                                                         \n",
       "4                                                NaN                                                                         \n",
       "\n",
       "  On which platforms have you begun or completed data science courses? (Select all that apply) - Selected Choice - Udemy  \\\n",
       "0                                                NaN                                                                       \n",
       "1                                                NaN                                                                       \n",
       "2                                              Udemy                                                                       \n",
       "3                                              Udemy                                                                       \n",
       "4                                                NaN                                                                       \n",
       "\n",
       "  On which platforms have you begun or completed data science courses? (Select all that apply) - Selected Choice - LinkedIn Learning  \\\n",
       "0                                                NaN                                                                                   \n",
       "1                                                NaN                                                                                   \n",
       "2                                  LinkedIn Learning                                                                                   \n",
       "3                                                NaN                                                                                   \n",
       "4                                                NaN                                                                                   \n",
       "\n",
       "   ...  \\\n",
       "0  ...   \n",
       "1  ...   \n",
       "2  ...   \n",
       "3  ...   \n",
       "4  ...   \n",
       "\n",
       "  Who/what are your favorite media sources that report on data science topics? (Select all that apply) - Selected Choice - Reddit (r/machinelearning, etc)  \\\n",
       "0                                                NaN                                                                                                         \n",
       "1                                                NaN                                                                                                         \n",
       "2                                                NaN                                                                                                         \n",
       "3                                                NaN                                                                                                         \n",
       "4                                                NaN                                                                                                         \n",
       "\n",
       "  Who/what are your favorite media sources that report on data science topics? (Select all that apply) - Selected Choice - Kaggle (notebooks, forums, etc)  \\\n",
       "0                                                NaN                                                                                                         \n",
       "1                                                NaN                                                                                                         \n",
       "2                    Kaggle (notebooks, forums, etc)                                                                                                         \n",
       "3                    Kaggle (notebooks, forums, etc)                                                                                                         \n",
       "4                                                NaN                                                                                                         \n",
       "\n",
       "  Who/what are your favorite media sources that report on data science topics? (Select all that apply) - Selected Choice - Course Forums (forums.fast.ai, Coursera forums, etc)  \\\n",
       "0                                                NaN                                                                                                                              \n",
       "1                                                NaN                                                                                                                              \n",
       "2                                                NaN                                                                                                                              \n",
       "3  Course Forums (forums.fast.ai, Coursera forums...                                                                                                                              \n",
       "4                                                NaN                                                                                                                              \n",
       "\n",
       "  Who/what are your favorite media sources that report on data science topics? (Select all that apply) - Selected Choice - YouTube (Kaggle YouTube, Cloud AI Adventures, etc)  \\\n",
       "0                                                NaN                                                                                                                            \n",
       "1                                                NaN                                                                                                                            \n",
       "2  YouTube (Kaggle YouTube, Cloud AI Adventures, ...                                                                                                                            \n",
       "3                                                NaN                                                                                                                            \n",
       "4                                                NaN                                                                                                                            \n",
       "\n",
       "  Who/what are your favorite media sources that report on data science topics? (Select all that apply) - Selected Choice - Podcasts (Chai Time Data Science, O’Reilly Data Show, etc)  \\\n",
       "0                                                NaN                                                                                                                                    \n",
       "1                                                NaN                                                                                                                                    \n",
       "2  Podcasts (Chai Time Data Science, O’Reilly Dat...                                                                                                                                    \n",
       "3                                                NaN                                                                                                                                    \n",
       "4                                                NaN                                                                                                                                    \n",
       "\n",
       "  Who/what are your favorite media sources that report on data science topics? (Select all that apply) - Selected Choice - Blogs (Towards Data Science, Analytics Vidhya, etc)  \\\n",
       "0                                                NaN                                                                                                                             \n",
       "1                                                NaN                                                                                                                             \n",
       "2                                                NaN                                                                                                                             \n",
       "3  Blogs (Towards Data Science, Analytics Vidhya,...                                                                                                                             \n",
       "4  Blogs (Towards Data Science, Analytics Vidhya,...                                                                                                                             \n",
       "\n",
       "  Who/what are your favorite media sources that report on data science topics? (Select all that apply) - Selected Choice - Journal Publications (peer-reviewed journals, conference proceedings, etc)  \\\n",
       "0                                                NaN                                                                                                                                                    \n",
       "1                                                NaN                                                                                                                                                    \n",
       "2                                                NaN                                                                                                                                                    \n",
       "3                                                NaN                                                                                                                                                    \n",
       "4                                                NaN                                                                                                                                                    \n",
       "\n",
       "  Who/what are your favorite media sources that report on data science topics? (Select all that apply) - Selected Choice - Slack Communities (ods.ai, kagglenoobs, etc)  \\\n",
       "0                                                NaN                                                                                                                      \n",
       "1                                                NaN                                                                                                                      \n",
       "2                                                NaN                                                                                                                      \n",
       "3                                                NaN                                                                                                                      \n",
       "4                                                NaN                                                                                                                      \n",
       "\n",
       "  Who/what are your favorite media sources that report on data science topics? (Select all that apply) - Selected Choice - None  \\\n",
       "0                                                NaN                                                                              \n",
       "1                                                NaN                                                                              \n",
       "2                                                NaN                                                                              \n",
       "3                                                NaN                                                                              \n",
       "4                                                NaN                                                                              \n",
       "\n",
       "  Who/what are your favorite media sources that report on data science topics? (Select all that apply) - Selected Choice - Other  \n",
       "0                                                NaN                                                                              \n",
       "1                                                NaN                                                                              \n",
       "2                                                NaN                                                                              \n",
       "3                                                NaN                                                                              \n",
       "4                                                NaN                                                                              \n",
       "\n",
       "[5 rows x 252 columns]"
      ]
     },
     "execution_count": 7,
     "metadata": {},
     "output_type": "execute_result"
    }
   ],
   "source": [
    "df.drop(df.iloc[:, 102:142], inplace=True, axis=1)\n",
    "df.head()\n"
   ]
  },
  {
   "cell_type": "code",
   "execution_count": 8,
   "id": "4e8f86b4",
   "metadata": {},
   "outputs": [
    {
     "data": {
      "text/plain": [
       "Coursera    9699\n",
       "Name: On which platforms have you begun or completed data science courses? (Select all that apply) - Selected Choice - Coursera, dtype: int64"
      ]
     },
     "execution_count": 8,
     "metadata": {},
     "output_type": "execute_result"
    }
   ],
   "source": [
    "df['On which platforms have you begun or completed data science courses? (Select all that apply) - Selected Choice - Coursera'].value_counts()"
   ]
  },
  {
   "cell_type": "code",
   "execution_count": 9,
   "id": "e4074ec1",
   "metadata": {},
   "outputs": [
    {
     "data": {
      "text/plain": [
       "edX    2474\n",
       "Name: On which platforms have you begun or completed data science courses? (Select all that apply) - Selected Choice - edX, dtype: int64"
      ]
     },
     "execution_count": 9,
     "metadata": {},
     "output_type": "execute_result"
    }
   ],
   "source": [
    "df['On which platforms have you begun or completed data science courses? (Select all that apply) - Selected Choice - edX'].value_counts()"
   ]
  },
  {
   "cell_type": "code",
   "execution_count": 10,
   "id": "720524bb",
   "metadata": {},
   "outputs": [
    {
     "data": {
      "text/plain": [
       "Kaggle Learn Courses    6628\n",
       "Name: On which platforms have you begun or completed data science courses? (Select all that apply) - Selected Choice - Kaggle Learn Courses, dtype: int64"
      ]
     },
     "execution_count": 10,
     "metadata": {},
     "output_type": "execute_result"
    }
   ],
   "source": [
    "df['On which platforms have you begun or completed data science courses? (Select all that apply) - Selected Choice - Kaggle Learn Courses'].value_counts()"
   ]
  },
  {
   "cell_type": "code",
   "execution_count": 11,
   "id": "0449e14f",
   "metadata": {},
   "outputs": [
    {
     "data": {
      "text/plain": [
       "DataCamp    3718\n",
       "Name: On which platforms have you begun or completed data science courses? (Select all that apply) - Selected Choice - DataCamp, dtype: int64"
      ]
     },
     "execution_count": 11,
     "metadata": {},
     "output_type": "execute_result"
    }
   ],
   "source": [
    "df['On which platforms have you begun or completed data science courses? (Select all that apply) - Selected Choice - DataCamp'].value_counts()"
   ]
  },
  {
   "cell_type": "code",
   "execution_count": 12,
   "id": "15480d8f",
   "metadata": {},
   "outputs": [
    {
     "data": {
      "text/plain": [
       "Fast.ai    944\n",
       "Name: On which platforms have you begun or completed data science courses? (Select all that apply) - Selected Choice - Fast.ai, dtype: int64"
      ]
     },
     "execution_count": 12,
     "metadata": {},
     "output_type": "execute_result"
    }
   ],
   "source": [
    "df['On which platforms have you begun or completed data science courses? (Select all that apply) - Selected Choice - Fast.ai'].value_counts()"
   ]
  },
  {
   "cell_type": "code",
   "execution_count": 13,
   "id": "bb3d04d9",
   "metadata": {},
   "outputs": [
    {
     "data": {
      "text/plain": [
       "Udacity    2199\n",
       "Name: On which platforms have you begun or completed data science courses? (Select all that apply) - Selected Choice - Udacity, dtype: int64"
      ]
     },
     "execution_count": 13,
     "metadata": {},
     "output_type": "execute_result"
    }
   ],
   "source": [
    "df['On which platforms have you begun or completed data science courses? (Select all that apply) - Selected Choice - Udacity'].value_counts()"
   ]
  },
  {
   "cell_type": "code",
   "execution_count": 14,
   "id": "30b322b7",
   "metadata": {},
   "outputs": [
    {
     "data": {
      "text/plain": [
       "Udemy    6116\n",
       "Name: On which platforms have you begun or completed data science courses? (Select all that apply) - Selected Choice - Udemy, dtype: int64"
      ]
     },
     "execution_count": 14,
     "metadata": {},
     "output_type": "execute_result"
    }
   ],
   "source": [
    "df['On which platforms have you begun or completed data science courses? (Select all that apply) - Selected Choice - Udemy'].value_counts()"
   ]
  },
  {
   "cell_type": "code",
   "execution_count": 15,
   "id": "8368dc60",
   "metadata": {},
   "outputs": [
    {
     "data": {
      "text/plain": [
       "LinkedIn Learning    2766\n",
       "Name: On which platforms have you begun or completed data science courses? (Select all that apply) - Selected Choice - LinkedIn Learning, dtype: int64"
      ]
     },
     "execution_count": 15,
     "metadata": {},
     "output_type": "execute_result"
    }
   ],
   "source": [
    "df['On which platforms have you begun or completed data science courses? (Select all that apply) - Selected Choice - LinkedIn Learning'].value_counts()"
   ]
  },
  {
   "cell_type": "code",
   "execution_count": 16,
   "id": "313e32c8",
   "metadata": {},
   "outputs": [
    {
     "data": {
      "text/plain": [
       "Cloud-certification programs (direct from AWS, Azure, GCP, or similar)    1821\n",
       "Name: On which platforms have you begun or completed data science courses? (Select all that apply) - Selected Choice - Cloud-certification programs (direct from AWS, Azure, GCP, or similar), dtype: int64"
      ]
     },
     "execution_count": 16,
     "metadata": {},
     "output_type": "execute_result"
    }
   ],
   "source": [
    "df['On which platforms have you begun or completed data science courses? (Select all that apply) - Selected Choice - Cloud-certification programs (direct from AWS, Azure, GCP, or similar)'].value_counts()"
   ]
  },
  {
   "cell_type": "code",
   "execution_count": 17,
   "id": "91e6d302",
   "metadata": {},
   "outputs": [
    {
     "data": {
      "text/plain": [
       "University Courses (resulting in a university degree)    6780\n",
       "Name: On which platforms have you begun or completed data science courses? (Select all that apply) - Selected Choice - University Courses (resulting in a university degree), dtype: int64"
      ]
     },
     "execution_count": 17,
     "metadata": {},
     "output_type": "execute_result"
    }
   ],
   "source": [
    "df['On which platforms have you begun or completed data science courses? (Select all that apply) - Selected Choice - University Courses (resulting in a university degree)'].value_counts()"
   ]
  },
  {
   "cell_type": "code",
   "execution_count": 18,
   "id": "a1b228d6",
   "metadata": {},
   "outputs": [
    {
     "data": {
      "text/plain": [
       "None    2643\n",
       "Name: On which platforms have you begun or completed data science courses? (Select all that apply) - Selected Choice - None, dtype: int64"
      ]
     },
     "execution_count": 18,
     "metadata": {},
     "output_type": "execute_result"
    }
   ],
   "source": [
    "df['On which platforms have you begun or completed data science courses? (Select all that apply) - Selected Choice - None'].value_counts()"
   ]
  },
  {
   "cell_type": "code",
   "execution_count": 19,
   "id": "7c234d07",
   "metadata": {},
   "outputs": [
    {
     "data": {
      "text/plain": [
       "Other    5669\n",
       "Name: On which platforms have you begun or completed data science courses? (Select all that apply) - Selected Choice - Other, dtype: int64"
      ]
     },
     "execution_count": 19,
     "metadata": {},
     "output_type": "execute_result"
    }
   ],
   "source": [
    "df['On which platforms have you begun or completed data science courses? (Select all that apply) - Selected Choice - Other'].value_counts()"
   ]
  },
  {
   "cell_type": "code",
   "execution_count": 20,
   "id": "366de29a",
   "metadata": {},
   "outputs": [
    {
     "data": {
      "image/png": "[encoded data removed]",
      "text/plain": [
       "<Figure size 432x288 with 1 Axes>"
      ]
     },
     "metadata": {},
     "output_type": "display_data"
    }
   ],
   "source": [
    "slices = [9699,2474,6628,3718,944,2199,6116,2766,1821,6780,2643,5669]\n",
    "act =  ['Coursera', 'edx', 'Kaggle', 'Datacamp', 'Fast.ai', 'Udacity', 'Udemy','LinkedIn Learning','Cloud Programes','University','None','Others']\n",
    "cols = ['c','m','r','b','g','y']\n",
    "plt.pie(slices,labels=act,radius=2.5, colors=cols, startangle=90, shadow=True, autopct='%1.2f%%')\n",
    "\n",
    "\n",
    "plt.show()"
   ]
  },
  {
   "cell_type": "code",
   "execution_count": 21,
   "id": "cd718c2e",
   "metadata": {},
   "outputs": [
    {
     "data": {
      "text/plain": [
       "University courses    6851\n",
       "Name: What products or platforms did you find to be most helpful when you first started studying data science?  (Select all that apply) - Selected Choice - University courses, dtype: int64"
      ]
     },
     "execution_count": 21,
     "metadata": {},
     "output_type": "execute_result"
    }
   ],
   "source": [
    "df['What products or platforms did you find to be most helpful when you first started studying data science?  (Select all that apply) - Selected Choice - University courses'].value_counts()"
   ]
  },
  {
   "cell_type": "code",
   "execution_count": 22,
   "id": "9fc78ddb",
   "metadata": {},
   "outputs": [
    {
     "data": {
      "text/plain": [
       "Online courses (Coursera, EdX, etc)    13714\n",
       "Name: What products or platforms did you find to be most helpful when you first started studying data science?  (Select all that apply) - Selected Choice - Online courses (Coursera, EdX, etc), dtype: int64"
      ]
     },
     "execution_count": 22,
     "metadata": {},
     "output_type": "execute_result"
    }
   ],
   "source": [
    "df['What products or platforms did you find to be most helpful when you first started studying data science?  (Select all that apply) - Selected Choice - Online courses (Coursera, EdX, etc)'].value_counts()"
   ]
  },
  {
   "cell_type": "code",
   "execution_count": 23,
   "id": "782d3e14",
   "metadata": {},
   "outputs": [
    {
     "data": {
      "text/plain": [
       "Social media platforms (Reddit, Twitter, etc)    3310\n",
       "Name: What products or platforms did you find to be most helpful when you first started studying data science?  (Select all that apply) - Selected Choice - Social media platforms (Reddit, Twitter, etc), dtype: int64"
      ]
     },
     "execution_count": 23,
     "metadata": {},
     "output_type": "execute_result"
    }
   ],
   "source": [
    "df['What products or platforms did you find to be most helpful when you first started studying data science?  (Select all that apply) - Selected Choice - Social media platforms (Reddit, Twitter, etc)'].value_counts()"
   ]
  },
  {
   "cell_type": "code",
   "execution_count": 24,
   "id": "671407f0",
   "metadata": {},
   "outputs": [
    {
     "data": {
      "text/plain": [
       "Video platforms (YouTube, Twitch, etc)    12871\n",
       "Name: What products or platforms did you find to be most helpful when you first started studying data science?  (Select all that apply) - Selected Choice - Video platforms (YouTube, Twitch, etc), dtype: int64"
      ]
     },
     "execution_count": 24,
     "metadata": {},
     "output_type": "execute_result"
    }
   ],
   "source": [
    "df['What products or platforms did you find to be most helpful when you first started studying data science?  (Select all that apply) - Selected Choice - Video platforms (YouTube, Twitch, etc)'].value_counts()"
   ]
  },
  {
   "cell_type": "code",
   "execution_count": 25,
   "id": "48baa94a",
   "metadata": {},
   "outputs": [
    {
     "data": {
      "text/plain": [
       "Kaggle (notebooks, competitions, etc)    12700\n",
       "Name: What products or platforms did you find to be most helpful when you first started studying data science?  (Select all that apply) - Selected Choice - Kaggle (notebooks, competitions, etc), dtype: int64"
      ]
     },
     "execution_count": 25,
     "metadata": {},
     "output_type": "execute_result"
    }
   ],
   "source": [
    "df['What products or platforms did you find to be most helpful when you first started studying data science?  (Select all that apply) - Selected Choice - Kaggle (notebooks, competitions, etc)'].value_counts()"
   ]
  },
  {
   "cell_type": "code",
   "execution_count": 26,
   "id": "b459df28",
   "metadata": {},
   "outputs": [
    {
     "data": {
      "text/plain": [
       "None / I do not study data science    1022\n",
       "Name: What products or platforms did you find to be most helpful when you first started studying data science?  (Select all that apply) - Selected Choice - None / I do not study data science, dtype: int64"
      ]
     },
     "execution_count": 26,
     "metadata": {},
     "output_type": "execute_result"
    }
   ],
   "source": [
    "df['What products or platforms did you find to be most helpful when you first started studying data science?  (Select all that apply) - Selected Choice - None / I do not study data science'].value_counts()"
   ]
  },
  {
   "cell_type": "code",
   "execution_count": 27,
   "id": "91f23bcc",
   "metadata": {},
   "outputs": [
    {
     "data": {
      "text/plain": [
       "Other    1944\n",
       "Name: What products or platforms did you find to be most helpful when you first started studying data science?  (Select all that apply) - Selected Choice - Other, dtype: int64"
      ]
     },
     "execution_count": 27,
     "metadata": {},
     "output_type": "execute_result"
    }
   ],
   "source": [
    "df['What products or platforms did you find to be most helpful when you first started studying data science?  (Select all that apply) - Selected Choice - Other'].value_counts()"
   ]
  },
  {
   "cell_type": "code",
   "execution_count": 28,
   "id": "d0bce27c",
   "metadata": {},
   "outputs": [
    {
     "data": {
      "image/png": "[encoded data removed]",
      "text/plain": [
       "<Figure size 432x288 with 1 Axes>"
      ]
     },
     "metadata": {
      "needs_background": "light"
     },
     "output_type": "display_data"
    }
   ],
   "source": [
    "x = np.array(['University Courses', 'Online courses', 'social media', 'Video platforms','Kaggle','None','Others'])\n",
    "y = np.array([6851, 13714, 3310, 12871, 12700, 1022, 1944])\n",
    "bar_labels = ['red', 'blue', 'yellow', 'orange','cyan', 'pink','green']\n",
    "plt.grid(True, linewidth=0.5, color='#000000', linestyle='-')\n",
    "plt.bar(x,y, fill=True, hatch='',color=bar_labels)\n",
    "plt.xticks(rotation=90)\n",
    "\n",
    "plt.show()"
   ]
  },
  {
   "cell_type": "code",
   "execution_count": 29,
   "id": "e20f7b1f",
   "metadata": {},
   "outputs": [
    {
     "data": {
      "text/plain": [
       "Python    18653\n",
       "Name: What programming languages do you use on a regular basis? (Select all that apply) - Selected Choice - Python, dtype: int64"
      ]
     },
     "execution_count": 29,
     "metadata": {},
     "output_type": "execute_result"
    }
   ],
   "source": [
    "df['What programming languages do you use on a regular basis? (Select all that apply) - Selected Choice - Python'].value_counts()"
   ]
  },
  {
   "cell_type": "code",
   "execution_count": 30,
   "id": "8be3be1f",
   "metadata": {},
   "outputs": [
    {
     "data": {
      "text/plain": [
       "R    4571\n",
       "Name: What programming languages do you use on a regular basis? (Select all that apply) - Selected Choice - R, dtype: int64"
      ]
     },
     "execution_count": 30,
     "metadata": {},
     "output_type": "execute_result"
    }
   ],
   "source": [
    "df['What programming languages do you use on a regular basis? (Select all that apply) - Selected Choice - R'].value_counts()"
   ]
  },
  {
   "cell_type": "code",
   "execution_count": 31,
   "id": "fe8a9589",
   "metadata": {},
   "outputs": [
    {
     "data": {
      "text/plain": [
       "SQL    9620\n",
       "Name: What programming languages do you use on a regular basis? (Select all that apply) - Selected Choice - SQL, dtype: int64"
      ]
     },
     "execution_count": 31,
     "metadata": {},
     "output_type": "execute_result"
    }
   ],
   "source": [
    "df['What programming languages do you use on a regular basis? (Select all that apply) - Selected Choice - SQL'].value_counts()"
   ]
  },
  {
   "cell_type": "code",
   "execution_count": 32,
   "id": "9c9f7ba2",
   "metadata": {},
   "outputs": [
    {
     "data": {
      "text/plain": [
       "C    3801\n",
       "Name: What programming languages do you use on a regular basis? (Select all that apply) - Selected Choice - C, dtype: int64"
      ]
     },
     "execution_count": 32,
     "metadata": {},
     "output_type": "execute_result"
    }
   ],
   "source": [
    "df['What programming languages do you use on a regular basis? (Select all that apply) - Selected Choice - C'].value_counts()"
   ]
  },
  {
   "cell_type": "code",
   "execution_count": 33,
   "id": "3aea8967",
   "metadata": {},
   "outputs": [
    {
     "data": {
      "text/plain": [
       "C#    1473\n",
       "Name: What programming languages do you use on a regular basis? (Select all that apply) - Selected Choice - C#, dtype: int64"
      ]
     },
     "execution_count": 33,
     "metadata": {},
     "output_type": "execute_result"
    }
   ],
   "source": [
    "df['What programming languages do you use on a regular basis? (Select all that apply) - Selected Choice - C#'].value_counts()"
   ]
  },
  {
   "cell_type": "code",
   "execution_count": 34,
   "id": "b7623dee",
   "metadata": {},
   "outputs": [
    {
     "data": {
      "text/plain": [
       "C++    4549\n",
       "Name: What programming languages do you use on a regular basis? (Select all that apply) - Selected Choice - C++, dtype: int64"
      ]
     },
     "execution_count": 34,
     "metadata": {},
     "output_type": "execute_result"
    }
   ],
   "source": [
    "df['What programming languages do you use on a regular basis? (Select all that apply) - Selected Choice - C++'].value_counts()"
   ]
  },
  {
   "cell_type": "code",
   "execution_count": 35,
   "id": "237cf7f3",
   "metadata": {},
   "outputs": [
    {
     "data": {
      "text/plain": [
       "Java    3862\n",
       "Name: What programming languages do you use on a regular basis? (Select all that apply) - Selected Choice - Java, dtype: int64"
      ]
     },
     "execution_count": 35,
     "metadata": {},
     "output_type": "execute_result"
    }
   ],
   "source": [
    "df['What programming languages do you use on a regular basis? (Select all that apply) - Selected Choice - Java'].value_counts()"
   ]
  },
  {
   "cell_type": "code",
   "execution_count": 36,
   "id": "6c5ab46e",
   "metadata": {},
   "outputs": [
    {
     "data": {
      "text/plain": [
       "Javascript    3489\n",
       "Name: What programming languages do you use on a regular basis? (Select all that apply) - Selected Choice - Javascript, dtype: int64"
      ]
     },
     "execution_count": 36,
     "metadata": {},
     "output_type": "execute_result"
    }
   ],
   "source": [
    "df['What programming languages do you use on a regular basis? (Select all that apply) - Selected Choice - Javascript'].value_counts()"
   ]
  },
  {
   "cell_type": "code",
   "execution_count": 37,
   "id": "4f77269c",
   "metadata": {},
   "outputs": [
    {
     "data": {
      "text/plain": [
       "Bash    1674\n",
       "Name: What programming languages do you use on a regular basis? (Select all that apply) - Selected Choice - Bash, dtype: int64"
      ]
     },
     "execution_count": 37,
     "metadata": {},
     "output_type": "execute_result"
    }
   ],
   "source": [
    "df['What programming languages do you use on a regular basis? (Select all that apply) - Selected Choice - Bash'].value_counts()"
   ]
  },
  {
   "cell_type": "code",
   "execution_count": 38,
   "id": "942809c4",
   "metadata": {},
   "outputs": [
    {
     "data": {
      "text/plain": [
       "PHP    1443\n",
       "Name: What programming languages do you use on a regular basis? (Select all that apply) - Selected Choice - PHP, dtype: int64"
      ]
     },
     "execution_count": 38,
     "metadata": {},
     "output_type": "execute_result"
    }
   ],
   "source": [
    "df['What programming languages do you use on a regular basis? (Select all that apply) - Selected Choice - PHP'].value_counts()"
   ]
  },
  {
   "cell_type": "code",
   "execution_count": 39,
   "id": "949f85da",
   "metadata": {},
   "outputs": [
    {
     "data": {
      "text/plain": [
       "MATLAB    2441\n",
       "Name: What programming languages do you use on a regular basis? (Select all that apply) - Selected Choice - MATLAB, dtype: int64"
      ]
     },
     "execution_count": 39,
     "metadata": {},
     "output_type": "execute_result"
    }
   ],
   "source": [
    "df['What programming languages do you use on a regular basis? (Select all that apply) - Selected Choice - MATLAB'].value_counts()"
   ]
  },
  {
   "cell_type": "code",
   "execution_count": 40,
   "id": "41b7a435",
   "metadata": {},
   "outputs": [
    {
     "data": {
      "text/plain": [
       "Other    1342\n",
       "Name: What programming languages do you use on a regular basis? (Select all that apply) - Selected Choice - Other, dtype: int64"
      ]
     },
     "execution_count": 40,
     "metadata": {},
     "output_type": "execute_result"
    }
   ],
   "source": [
    "df['What programming languages do you use on a regular basis? (Select all that apply) - Selected Choice - Other'].value_counts()"
   ]
  },
  {
   "cell_type": "code",
   "execution_count": 41,
   "id": "ceb26333",
   "metadata": {},
   "outputs": [
    {
     "data": {
      "image/png": "[encoded data removed]",
      "text/plain": [
       "<Figure size 432x288 with 1 Axes>"
      ]
     },
     "metadata": {
      "needs_background": "light"
     },
     "output_type": "display_data"
    }
   ],
   "source": [
    "x = np.array(['Python', 'R', 'SQL','C','C#','C++','Java','Javascript','Bash','PHP','MATLAB','Others'])\n",
    "y = np.array([18653,4571,9620,3801,1473,4549,3862,3489,1674,1443,2441,1342])\n",
    "plt.grid(True, linewidth=0.5, color='#ff0000', linestyle='-')\n",
    "plt.bar(x,y, fill=False, hatch='xx')\n",
    "plt.xticks(rotation=90)\n",
    "\n",
    "plt.show()"
   ]
  },
  {
   "cell_type": "code",
   "execution_count": 42,
   "id": "e24cf93a",
   "metadata": {},
   "outputs": [
    {
     "data": {
      "text/plain": [
       " Visual Studio     4416\n",
       "Name: Which of the following integrated development environments (IDE's) do you use on a regular basis?  (Select all that apply) - Selected Choice -  Visual Studio , dtype: int64"
      ]
     },
     "execution_count": 42,
     "metadata": {},
     "output_type": "execute_result"
    }
   ],
   "source": [
    "df[\"Which of the following integrated development environments (IDE's) do you use on a regular basis?  (Select all that apply) - Selected Choice -  Visual Studio \"].value_counts()"
   ]
  },
  {
   "cell_type": "code",
   "execution_count": 43,
   "id": "a425b03f",
   "metadata": {},
   "outputs": [
    {
     "data": {
      "text/plain": [
       " Visual Studio Code (VSCode)     9976\n",
       "Name: Which of the following integrated development environments (IDE's) do you use on a regular basis?  (Select all that apply) - Selected Choice -  Visual Studio Code (VSCode) , dtype: int64"
      ]
     },
     "execution_count": 43,
     "metadata": {},
     "output_type": "execute_result"
    }
   ],
   "source": [
    "df[\"Which of the following integrated development environments (IDE's) do you use on a regular basis?  (Select all that apply) - Selected Choice -  Visual Studio Code (VSCode) \"].value_counts()"
   ]
  },
  {
   "cell_type": "code",
   "execution_count": 44,
   "id": "58a34552",
   "metadata": {},
   "outputs": [
    {
     "data": {
      "text/plain": [
       " PyCharm     6099\n",
       "Name: Which of the following integrated development environments (IDE's) do you use on a regular basis?  (Select all that apply) - Selected Choice -  PyCharm , dtype: int64"
      ]
     },
     "execution_count": 44,
     "metadata": {},
     "output_type": "execute_result"
    }
   ],
   "source": [
    "df[\"Which of the following integrated development environments (IDE's) do you use on a regular basis?  (Select all that apply) - Selected Choice -  PyCharm \"].value_counts()"
   ]
  },
  {
   "cell_type": "code",
   "execution_count": 45,
   "id": "8742bc54",
   "metadata": {},
   "outputs": [
    {
     "data": {
      "text/plain": [
       "  Spyder      2880\n",
       "Name: Which of the following integrated development environments (IDE's) do you use on a regular basis?  (Select all that apply) - Selected Choice -   Spyder  , dtype: int64"
      ]
     },
     "execution_count": 45,
     "metadata": {},
     "output_type": "execute_result"
    }
   ],
   "source": [
    "df[\"Which of the following integrated development environments (IDE's) do you use on a regular basis?  (Select all that apply) - Selected Choice -   Spyder  \"].value_counts()"
   ]
  },
  {
   "cell_type": "code",
   "execution_count": 46,
   "id": "809c8c0e",
   "metadata": {},
   "outputs": [
    {
     "data": {
      "text/plain": [
       "  Notepad++      3891\n",
       "Name: Which of the following integrated development environments (IDE's) do you use on a regular basis?  (Select all that apply) - Selected Choice -   Notepad++  , dtype: int64"
      ]
     },
     "execution_count": 46,
     "metadata": {},
     "output_type": "execute_result"
    }
   ],
   "source": [
    "df[\"Which of the following integrated development environments (IDE's) do you use on a regular basis?  (Select all that apply) - Selected Choice -   Notepad++  \"].value_counts()"
   ]
  },
  {
   "cell_type": "code",
   "execution_count": 47,
   "id": "97a07780",
   "metadata": {},
   "outputs": [
    {
     "data": {
      "text/plain": [
       "  Sublime Text      2218\n",
       "Name: Which of the following integrated development environments (IDE's) do you use on a regular basis?  (Select all that apply) - Selected Choice -   Sublime Text  , dtype: int64"
      ]
     },
     "execution_count": 47,
     "metadata": {},
     "output_type": "execute_result"
    }
   ],
   "source": [
    "df[\"Which of the following integrated development environments (IDE's) do you use on a regular basis?  (Select all that apply) - Selected Choice -   Sublime Text  \"].value_counts()"
   ]
  },
  {
   "cell_type": "code",
   "execution_count": 48,
   "id": "dd5be51b",
   "metadata": {},
   "outputs": [
    {
     "data": {
      "text/plain": [
       " MATLAB     2302\n",
       "Name: Which of the following integrated development environments (IDE's) do you use on a regular basis?  (Select all that apply) - Selected Choice -  MATLAB , dtype: int64"
      ]
     },
     "execution_count": 48,
     "metadata": {},
     "output_type": "execute_result"
    }
   ],
   "source": [
    "df[\"Which of the following integrated development environments (IDE's) do you use on a regular basis?  (Select all that apply) - Selected Choice -  MATLAB \"].value_counts()"
   ]
  },
  {
   "cell_type": "code",
   "execution_count": 49,
   "id": "3d0c7287",
   "metadata": {},
   "outputs": [
    {
     "data": {
      "text/plain": [
       " Jupyter Notebook    13684\n",
       "Name: Which of the following integrated development environments (IDE's) do you use on a regular basis?  (Select all that apply) - Selected Choice -  Jupyter Notebook, dtype: int64"
      ]
     },
     "execution_count": 49,
     "metadata": {},
     "output_type": "execute_result"
    }
   ],
   "source": [
    "df[\"Which of the following integrated development environments (IDE's) do you use on a regular basis?  (Select all that apply) - Selected Choice -  Jupyter Notebook\"].value_counts()"
   ]
  },
  {
   "cell_type": "code",
   "execution_count": 50,
   "id": "f1860916",
   "metadata": {},
   "outputs": [
    {
     "data": {
      "text/plain": [
       "Other    1474\n",
       "Name: Which of the following integrated development environments (IDE's) do you use on a regular basis?  (Select all that apply) - Selected Choice - Other, dtype: int64"
      ]
     },
     "execution_count": 50,
     "metadata": {},
     "output_type": "execute_result"
    }
   ],
   "source": [
    "df[\"Which of the following integrated development environments (IDE's) do you use on a regular basis?  (Select all that apply) - Selected Choice - Other\"].value_counts()"
   ]
  },
  {
   "cell_type": "code",
   "execution_count": 51,
   "id": "b8f018a6",
   "metadata": {},
   "outputs": [
    {
     "data": {
      "image/png": "[encoded data removed]",
      "text/plain": [
       "<Figure size 432x288 with 1 Axes>"
      ]
     },
     "metadata": {},
     "output_type": "display_data"
    }
   ],
   "source": [
    "slices = [4416,9976,6099,2880,3891,2218,2302,13684,1474]\n",
    "act =  ['Visual Studio', 'VSCode', 'PyCharm ', 'spyder', 'Notepad++', 'Sublime Text', 'MATLAB','Jupyter Notebook','Others']\n",
    "cols = ['c','m','r','b','g','y']\n",
    "plt.pie(slices,labels=act,radius=2.5, colors=cols, startangle=90, shadow=True, autopct='%1.2f%%')\n",
    "\n",
    "# plt.title('pie plot')\n",
    "plt.show()"
   ]
  },
  {
   "cell_type": "code",
   "execution_count": 52,
   "id": "eaf417ee",
   "metadata": {},
   "outputs": [
    {
     "data": {
      "text/plain": [
       " Matplotlib     14010\n",
       "Name: Do you use any of the following data visualization libraries on a regular basis?  (Select all that apply) - Selected Choice -  Matplotlib , dtype: int64"
      ]
     },
     "execution_count": 52,
     "metadata": {},
     "output_type": "execute_result"
    }
   ],
   "source": [
    "df[\"Do you use any of the following data visualization libraries on a regular basis?  (Select all that apply) - Selected Choice -  Matplotlib \"].value_counts()"
   ]
  },
  {
   "cell_type": "code",
   "execution_count": 53,
   "id": "4ccf9f66",
   "metadata": {},
   "outputs": [
    {
     "data": {
      "text/plain": [
       " Seaborn     10512\n",
       "Name: Do you use any of the following data visualization libraries on a regular basis?  (Select all that apply) - Selected Choice -  Seaborn , dtype: int64"
      ]
     },
     "execution_count": 53,
     "metadata": {},
     "output_type": "execute_result"
    }
   ],
   "source": [
    "df['Do you use any of the following data visualization libraries on a regular basis?  (Select all that apply) - Selected Choice -  Seaborn '].value_counts()"
   ]
  },
  {
   "cell_type": "code",
   "execution_count": 54,
   "id": "65019dc0",
   "metadata": {},
   "outputs": [
    {
     "data": {
      "text/plain": [
       " Plotly / Plotly Express     5078\n",
       "Name: Do you use any of the following data visualization libraries on a regular basis?  (Select all that apply) - Selected Choice -  Plotly / Plotly Express , dtype: int64"
      ]
     },
     "execution_count": 54,
     "metadata": {},
     "output_type": "execute_result"
    }
   ],
   "source": [
    "df['Do you use any of the following data visualization libraries on a regular basis?  (Select all that apply) - Selected Choice -  Plotly / Plotly Express '].value_counts()"
   ]
  },
  {
   "cell_type": "code",
   "execution_count": 55,
   "id": "26f2d1dc",
   "metadata": {},
   "outputs": [
    {
     "data": {
      "text/plain": [
       " Ggplot / ggplot2     4145\n",
       "Name: Do you use any of the following data visualization libraries on a regular basis?  (Select all that apply) - Selected Choice -  Ggplot / ggplot2 , dtype: int64"
      ]
     },
     "execution_count": 55,
     "metadata": {},
     "output_type": "execute_result"
    }
   ],
   "source": [
    "df['Do you use any of the following data visualization libraries on a regular basis?  (Select all that apply) - Selected Choice -  Ggplot / ggplot2 '].value_counts()"
   ]
  },
  {
   "cell_type": "code",
   "execution_count": 56,
   "id": "d621c0c6",
   "metadata": {},
   "outputs": [
    {
     "data": {
      "text/plain": [
       " Shiny     1043\n",
       "Name: Do you use any of the following data visualization libraries on a regular basis?  (Select all that apply) - Selected Choice -  Shiny , dtype: int64"
      ]
     },
     "execution_count": 56,
     "metadata": {},
     "output_type": "execute_result"
    }
   ],
   "source": [
    "df['Do you use any of the following data visualization libraries on a regular basis?  (Select all that apply) - Selected Choice -  Shiny '].value_counts()"
   ]
  },
  {
   "cell_type": "code",
   "execution_count": 57,
   "id": "44040027",
   "metadata": {},
   "outputs": [
    {
     "data": {
      "text/plain": [
       " Geoplotlib     1167\n",
       "Name: Do you use any of the following data visualization libraries on a regular basis?  (Select all that apply) - Selected Choice -  Geoplotlib , dtype: int64"
      ]
     },
     "execution_count": 57,
     "metadata": {},
     "output_type": "execute_result"
    }
   ],
   "source": [
    "df['Do you use any of the following data visualization libraries on a regular basis?  (Select all that apply) - Selected Choice -  Geoplotlib '].value_counts()"
   ]
  },
  {
   "cell_type": "code",
   "execution_count": 58,
   "id": "f78e6e26",
   "metadata": {},
   "outputs": [
    {
     "data": {
      "text/plain": [
       "Other    691\n",
       "Name: Do you use any of the following data visualization libraries on a regular basis?  (Select all that apply) - Selected Choice - Other, dtype: int64"
      ]
     },
     "execution_count": 58,
     "metadata": {},
     "output_type": "execute_result"
    }
   ],
   "source": [
    "df['Do you use any of the following data visualization libraries on a regular basis?  (Select all that apply) - Selected Choice - Other'].value_counts()"
   ]
  },
  {
   "cell_type": "code",
   "execution_count": 59,
   "id": "7652440a",
   "metadata": {},
   "outputs": [
    {
     "data": {
      "image/png": "[encoded data removed]",
      "text/plain": [
       "<Figure size 432x288 with 1 Axes>"
      ]
     },
     "metadata": {
      "needs_background": "light"
     },
     "output_type": "display_data"
    }
   ],
   "source": [
    "x = np.array(['Matplotlib','Seaborn','Plotly','Ggplot','Shiny','Geoplotlib','Other'])\n",
    "y = np.array([14010,10512,5078,4145,1043,1167,691])\n",
    "plt.grid(True, linewidth=0.5, color='#00ff40', linestyle='-')\n",
    "plt.bar(x,y, fill=False, hatch='..')\n",
    "plt.xticks(rotation=90)\n",
    "\n",
    "plt.show()"
   ]
  },
  {
   "cell_type": "code",
   "execution_count": 60,
   "id": "2ec602d1",
   "metadata": {},
   "outputs": [
    {
     "data": {
      "text/plain": [
       "  Scikit-learn     11403\n",
       "Name: Which of the following machine learning frameworks do you use on a regular basis? (Select all that apply) - Selected Choice -   Scikit-learn , dtype: int64"
      ]
     },
     "execution_count": 60,
     "metadata": {},
     "output_type": "execute_result"
    }
   ],
   "source": [
    "df['Which of the following machine learning frameworks do you use on a regular basis? (Select all that apply) - Selected Choice -   Scikit-learn '].value_counts()"
   ]
  },
  {
   "cell_type": "code",
   "execution_count": 61,
   "id": "8f3b3b57",
   "metadata": {},
   "outputs": [
    {
     "data": {
      "text/plain": [
       "  TensorFlow     7953\n",
       "Name: Which of the following machine learning frameworks do you use on a regular basis? (Select all that apply) - Selected Choice -   TensorFlow , dtype: int64"
      ]
     },
     "execution_count": 61,
     "metadata": {},
     "output_type": "execute_result"
    }
   ],
   "source": [
    "df['Which of the following machine learning frameworks do you use on a regular basis? (Select all that apply) - Selected Choice -   TensorFlow '].value_counts()"
   ]
  },
  {
   "cell_type": "code",
   "execution_count": 62,
   "id": "334c28aa",
   "metadata": {},
   "outputs": [
    {
     "data": {
      "text/plain": [
       " Keras     6575\n",
       "Name: Which of the following machine learning frameworks do you use on a regular basis? (Select all that apply) - Selected Choice -  Keras , dtype: int64"
      ]
     },
     "execution_count": 62,
     "metadata": {},
     "output_type": "execute_result"
    }
   ],
   "source": [
    "df['Which of the following machine learning frameworks do you use on a regular basis? (Select all that apply) - Selected Choice -  Keras '].value_counts()"
   ]
  },
  {
   "cell_type": "code",
   "execution_count": 63,
   "id": "a7482f1f",
   "metadata": {},
   "outputs": [
    {
     "data": {
      "text/plain": [
       " PyTorch     5191\n",
       "Name: Which of the following machine learning frameworks do you use on a regular basis? (Select all that apply) - Selected Choice -  PyTorch , dtype: int64"
      ]
     },
     "execution_count": 63,
     "metadata": {},
     "output_type": "execute_result"
    }
   ],
   "source": [
    "df['Which of the following machine learning frameworks do you use on a regular basis? (Select all that apply) - Selected Choice -  PyTorch '].value_counts()"
   ]
  },
  {
   "cell_type": "code",
   "execution_count": 64,
   "id": "a8ee0cb6",
   "metadata": {},
   "outputs": [
    {
     "data": {
      "text/plain": [
       " Xgboost     4477\n",
       "Name: Which of the following machine learning frameworks do you use on a regular basis? (Select all that apply) - Selected Choice -  Xgboost , dtype: int64"
      ]
     },
     "execution_count": 64,
     "metadata": {},
     "output_type": "execute_result"
    }
   ],
   "source": [
    "df['Which of the following machine learning frameworks do you use on a regular basis? (Select all that apply) - Selected Choice -  Xgboost '].value_counts()"
   ]
  },
  {
   "cell_type": "code",
   "execution_count": 65,
   "id": "4d26eaee",
   "metadata": {},
   "outputs": [
    {
     "data": {
      "text/plain": [
       " LightGBM     1940\n",
       "Name: Which of the following machine learning frameworks do you use on a regular basis? (Select all that apply) - Selected Choice -  LightGBM , dtype: int64"
      ]
     },
     "execution_count": 65,
     "metadata": {},
     "output_type": "execute_result"
    }
   ],
   "source": [
    "df['Which of the following machine learning frameworks do you use on a regular basis? (Select all that apply) - Selected Choice -  LightGBM '].value_counts()"
   ]
  },
  {
   "cell_type": "code",
   "execution_count": 66,
   "id": "34d60c9f",
   "metadata": {},
   "outputs": [
    {
     "data": {
      "text/plain": [
       " PyTorch Lightning     1013\n",
       "Name: Which of the following machine learning frameworks do you use on a regular basis? (Select all that apply) - Selected Choice -  PyTorch Lightning , dtype: int64"
      ]
     },
     "execution_count": 66,
     "metadata": {},
     "output_type": "execute_result"
    }
   ],
   "source": [
    "df['Which of the following machine learning frameworks do you use on a regular basis? (Select all that apply) - Selected Choice -  PyTorch Lightning '].value_counts()"
   ]
  },
  {
   "cell_type": "code",
   "execution_count": 67,
   "id": "6f28f030",
   "metadata": {},
   "outputs": [
    {
     "data": {
      "text/plain": [
       "Other    620\n",
       "Name: Which of the following machine learning frameworks do you use on a regular basis? (Select all that apply) - Selected Choice - Other, dtype: int64"
      ]
     },
     "execution_count": 67,
     "metadata": {},
     "output_type": "execute_result"
    }
   ],
   "source": [
    "df['Which of the following machine learning frameworks do you use on a regular basis? (Select all that apply) - Selected Choice - Other'].value_counts()"
   ]
  },
  {
   "cell_type": "code",
   "execution_count": 68,
   "id": "35db6587",
   "metadata": {
    "scrolled": true
   },
   "outputs": [
    {
     "data": {
      "image/png": "[encoded data removed]",
      "text/plain": [
       "<Figure size 432x288 with 1 Axes>"
      ]
     },
     "metadata": {},
     "output_type": "display_data"
    }
   ],
   "source": [
    "slices = [11403,7953,6575,5191,4477,1940,1013,620]\n",
    "act =  ['Scikit-learn','TensorFlow','Keras','PyTorch','Xgboost','LightGBM','PyTorch Lightning','Other']\n",
    "cols = ['c','m','r','b','g','y']\n",
    "plt.pie(slices,labels=act,radius=2.5, colors=cols, startangle=90, shadow=True, autopct='%1.2f%%')\n",
    "\n",
    "# plt.title('pie plot')\n",
    "plt.show()"
   ]
  },
  {
   "cell_type": "code",
   "execution_count": null,
   "id": "d92b24ec",
   "metadata": {},
   "outputs": [],
   "source": []
  }
 ],
 "metadata": {
  "kernelspec": {
   "display_name": "Python 3.10.5 64-bit",
   "language": "python",
   "name": "python3"
  },
  "language_info": {
   "codemirror_mode": {
    "name": "ipython",
    "version": 3
   },
   "file_extension": ".py",
   "mimetype": "text/x-python",
   "name": "python",
   "nbconvert_exporter": "python",
   "pygments_lexer": "ipython3",
   "version": "3.10.5"
  },
  "vscode": {
   "interpreter": {
    "hash": "8b40e31067220066dc7b653b4f1d310ff44bc88fe34bee2b1fc8aa67afa51fde"
   }
  }
 },
 "nbformat": 4,
 "nbformat_minor": 5
}
