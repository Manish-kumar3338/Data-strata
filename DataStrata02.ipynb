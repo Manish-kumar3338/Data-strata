{
 "cells": [
  {
   "cell_type": "code",
   "execution_count": 1,
   "id": "67ab3763",
   "metadata": {},
   "outputs": [],
   "source": [
    "import matplotlib.pyplot as plt"
   ]
  },
  {
   "cell_type": "code",
   "execution_count": 2,
   "id": "d059eda0",
   "metadata": {},
   "outputs": [],
   "source": [
    "import numpy as np\n",
    "import pandas as pd"
   ]
  },
  {
   "cell_type": "code",
   "execution_count": 3,
   "id": "96472591",
   "metadata": {},
   "outputs": [
    {
     "name": "stderr",
     "output_type": "stream",
     "text": [
      "C:\\Users\\manish kumar\\AppData\\Local\\Temp\\ipykernel_22184\\1745420125.py:1: DtypeWarning: Columns (208,225,255,257,260,270,271,277) have mixed types. Specify dtype option on import or set low_memory=False.\n",
      "  df = pd.read_csv(\"dataset.csv\")\n"
     ]
    }
   ],
   "source": [
    "df = pd.read_csv(\"dataset.csv\")"
   ]
  },
  {
   "cell_type": "code",
   "execution_count": 4,
   "id": "5e29e985",
   "metadata": {},
   "outputs": [
    {
     "data": {
      "text/plain": [
       " Kaggle datasets                              1618\n",
       "  TensorFlow Hub                               799\n",
       " Huggingface Models                            502\n",
       " PyTorch Hub                                   412\n",
       " Timm                                          127\n",
       "Other storage services (i.e. google drive)      96\n",
       " NVIDIA NGC models                              69\n",
       " ONNX models                                    46\n",
       " Jumpstart                                      24\n",
       "Name: Which of the following ML model hubs/repositories do you use most often? - Selected Choice, dtype: int64"
      ]
     },
     "execution_count": 4,
     "metadata": {},
     "output_type": "execute_result"
    }
   ],
   "source": [
    "df['Which of the following ML model hubs/repositories do you use most often? - Selected Choice'].value_counts()"
   ]
  },
  {
   "cell_type": "code",
   "execution_count": 5,
   "id": "d89329ab",
   "metadata": {
    "slideshow": {
     "slide_type": "slide"
    }
   },
   "outputs": [
    {
     "data": {
      "image/png": "[encoded data removed]",
      "text/plain": [
       "<Figure size 432x288 with 1 Axes>"
      ]
     },
     "metadata": {
      "needs_background": "light"
     },
     "output_type": "display_data"
    }
   ],
   "source": [
    "x = np.array(['Kaggle dataset', 'TensorFlow','Huggingface Models ','PyTorch Hub ','Timm','Other storage services ','NVIDIA NGC models ','ONNX models  '])\n",
    "y = np.array([1618,799,502,412,127,96,69,46])\n",
    "bar_labels = ['red', 'blue', 'purple', 'orange','violet', 'yellow','red','blue']\n",
    "plt.grid(True, linewidth=0.5, color='#0000ff', linestyle='-')\n",
    "plt.bar(x,y, fill=True, hatch='', color=bar_labels)\n",
    "plt.xticks(rotation=90)\n",
    "\n",
    "plt.show()"
   ]
  },
  {
   "cell_type": "code",
   "execution_count": 6,
   "id": "5a66881d",
   "metadata": {},
   "outputs": [
    {
     "data": {
      "text/plain": [
       "Linear or Logistic Regression    11338\n",
       "Name: Which of the following ML algorithms do you use on a regular basis? (Select all that apply): - Selected Choice - Linear or Logistic Regression, dtype: int64"
      ]
     },
     "execution_count": 6,
     "metadata": {},
     "output_type": "execute_result"
    }
   ],
   "source": [
    "df[\"Which of the following ML algorithms do you use on a regular basis? (Select all that apply): - Selected Choice - Linear or Logistic Regression\"].value_counts()"
   ]
  },
  {
   "cell_type": "code",
   "execution_count": 7,
   "id": "badd8c3d",
   "metadata": {},
   "outputs": [
    {
     "data": {
      "text/plain": [
       "Decision Trees or Random Forests    9373\n",
       "Name: Which of the following ML algorithms do you use on a regular basis? (Select all that apply): - Selected Choice - Decision Trees or Random Forests, dtype: int64"
      ]
     },
     "execution_count": 7,
     "metadata": {},
     "output_type": "execute_result"
    }
   ],
   "source": [
    "df[\"Which of the following ML algorithms do you use on a regular basis? (Select all that apply): - Selected Choice - Decision Trees or Random Forests\"].value_counts()"
   ]
  },
  {
   "cell_type": "code",
   "execution_count": 8,
   "id": "6dc4b7d2",
   "metadata": {},
   "outputs": [
    {
     "data": {
      "text/plain": [
       "Gradient Boosting Machines (xgboost, lightgbm, etc)    5506\n",
       "Name: Which of the following ML algorithms do you use on a regular basis? (Select all that apply): - Selected Choice - Gradient Boosting Machines (xgboost, lightgbm, etc), dtype: int64"
      ]
     },
     "execution_count": 8,
     "metadata": {},
     "output_type": "execute_result"
    }
   ],
   "source": [
    "df[\"Which of the following ML algorithms do you use on a regular basis? (Select all that apply): - Selected Choice - Gradient Boosting Machines (xgboost, lightgbm, etc)\"].value_counts()"
   ]
  },
  {
   "cell_type": "code",
   "execution_count": 9,
   "id": "d2413bc3",
   "metadata": {},
   "outputs": [
    {
     "data": {
      "text/plain": [
       "Bayesian Approaches    3661\n",
       "Name: Which of the following ML algorithms do you use on a regular basis? (Select all that apply): - Selected Choice - Bayesian Approaches, dtype: int64"
      ]
     },
     "execution_count": 9,
     "metadata": {},
     "output_type": "execute_result"
    }
   ],
   "source": [
    "df[\"Which of the following ML algorithms do you use on a regular basis? (Select all that apply): - Selected Choice - Bayesian Approaches\"].value_counts()"
   ]
  },
  {
   "cell_type": "code",
   "execution_count": 10,
   "id": "1418243f",
   "metadata": {},
   "outputs": [
    {
     "data": {
      "text/plain": [
       "Evolutionary Approaches    823\n",
       "Name: Which of the following ML algorithms do you use on a regular basis? (Select all that apply): - Selected Choice - Evolutionary Approaches, dtype: int64"
      ]
     },
     "execution_count": 10,
     "metadata": {},
     "output_type": "execute_result"
    }
   ],
   "source": [
    "df[\"Which of the following ML algorithms do you use on a regular basis? (Select all that apply): - Selected Choice - Evolutionary Approaches\"].value_counts()"
   ]
  },
  {
   "cell_type": "code",
   "execution_count": 11,
   "id": "3d2a3c91",
   "metadata": {},
   "outputs": [
    {
     "data": {
      "text/plain": [
       "Dense Neural Networks (MLPs, etc)    3476\n",
       "Name: Which of the following ML algorithms do you use on a regular basis? (Select all that apply): - Selected Choice - Dense Neural Networks (MLPs, etc), dtype: int64"
      ]
     },
     "execution_count": 11,
     "metadata": {},
     "output_type": "execute_result"
    }
   ],
   "source": [
    "df[\"Which of the following ML algorithms do you use on a regular basis? (Select all that apply): - Selected Choice - Dense Neural Networks (MLPs, etc)\"].value_counts()"
   ]
  },
  {
   "cell_type": "code",
   "execution_count": 12,
   "id": "7246536d",
   "metadata": {},
   "outputs": [
    {
     "data": {
      "text/plain": [
       "Convolutional Neural Networks    6006\n",
       "Name: Which of the following ML algorithms do you use on a regular basis? (Select all that apply): - Selected Choice - Convolutional Neural Networks, dtype: int64"
      ]
     },
     "execution_count": 12,
     "metadata": {},
     "output_type": "execute_result"
    }
   ],
   "source": [
    "df[\"Which of the following ML algorithms do you use on a regular basis? (Select all that apply): - Selected Choice - Convolutional Neural Networks\"].value_counts()"
   ]
  },
  {
   "cell_type": "code",
   "execution_count": 13,
   "id": "33213b95",
   "metadata": {},
   "outputs": [
    {
     "data": {
      "text/plain": [
       "Generative Adversarial Networks    1166\n",
       "Name: Which of the following ML algorithms do you use on a regular basis? (Select all that apply): - Selected Choice - Generative Adversarial Networks, dtype: int64"
      ]
     },
     "execution_count": 13,
     "metadata": {},
     "output_type": "execute_result"
    }
   ],
   "source": [
    "df[\"Which of the following ML algorithms do you use on a regular basis? (Select all that apply): - Selected Choice - Generative Adversarial Networks\"].value_counts()"
   ]
  },
  {
   "cell_type": "code",
   "execution_count": 14,
   "id": "c1c97c91",
   "metadata": {},
   "outputs": [
    {
     "data": {
      "text/plain": [
       "Recurrent Neural Networks    3451\n",
       "Name: Which of the following ML algorithms do you use on a regular basis? (Select all that apply): - Selected Choice - Recurrent Neural Networks, dtype: int64"
      ]
     },
     "execution_count": 14,
     "metadata": {},
     "output_type": "execute_result"
    }
   ],
   "source": [
    "df[\"Which of the following ML algorithms do you use on a regular basis? (Select all that apply): - Selected Choice - Recurrent Neural Networks\"].value_counts()"
   ]
  },
  {
   "cell_type": "code",
   "execution_count": 15,
   "id": "390f8b2c",
   "metadata": {},
   "outputs": [
    {
     "data": {
      "text/plain": [
       "Transformer Networks (BERT, gpt-3, etc)    2196\n",
       "Name: Which of the following ML algorithms do you use on a regular basis? (Select all that apply): - Selected Choice - Transformer Networks (BERT, gpt-3, etc), dtype: int64"
      ]
     },
     "execution_count": 15,
     "metadata": {},
     "output_type": "execute_result"
    }
   ],
   "source": [
    "df[\"Which of the following ML algorithms do you use on a regular basis? (Select all that apply): - Selected Choice - Transformer Networks (BERT, gpt-3, etc)\"].value_counts()"
   ]
  },
  {
   "cell_type": "code",
   "execution_count": 16,
   "id": "fd892949",
   "metadata": {},
   "outputs": [
    {
     "data": {
      "text/plain": [
       "Autoencoder Networks (DAE, VAE, etc)    1234\n",
       "Name: Which of the following ML algorithms do you use on a regular basis? (Select all that apply): - Selected Choice - Autoencoder Networks (DAE, VAE, etc), dtype: int64"
      ]
     },
     "execution_count": 16,
     "metadata": {},
     "output_type": "execute_result"
    }
   ],
   "source": [
    "df[\"Which of the following ML algorithms do you use on a regular basis? (Select all that apply): - Selected Choice - Autoencoder Networks (DAE, VAE, etc)\"].value_counts()"
   ]
  },
  {
   "cell_type": "code",
   "execution_count": 17,
   "id": "d2067abf",
   "metadata": {},
   "outputs": [
    {
     "data": {
      "text/plain": [
       "Other    538\n",
       "Name: Which of the following ML algorithms do you use on a regular basis? (Select all that apply): - Selected Choice - Other, dtype: int64"
      ]
     },
     "execution_count": 17,
     "metadata": {},
     "output_type": "execute_result"
    }
   ],
   "source": [
    "df[\"Which of the following ML algorithms do you use on a regular basis? (Select all that apply): - Selected Choice - Other\"].value_counts()"
   ]
  },
  {
   "cell_type": "code",
   "execution_count": 18,
   "id": "d19db628",
   "metadata": {},
   "outputs": [
    {
     "data": {
      "image/png": "[encoded data removed]",
      "text/plain": [
       "<Figure size 432x288 with 1 Axes>"
      ]
     },
     "metadata": {
      "needs_background": "light"
     },
     "output_type": "display_data"
    }
   ],
   "source": [
    "x = np.array(['Linear or Logistic Regression','Decision Trees or Random Forests','Gradient Boosting Machines','Bayesian Approaches','Evolutionary Approaches','Dense Neural Networks','CNNs','Generative Adversarial Networks','Recurrent Neural Networks','Transformer Networks','Autoencoder Networks','Other'])\n",
    "y = np.array([11338,9373,5506,3661,823,3476,6006,1166,3451,2196,1234,538])\n",
    "plt.grid(True, linewidth=0.5, color='#0000ff', linestyle='-')\n",
    "plt.bar(x,y, fill=False, hatch='..')\n",
    "plt.xticks(rotation=90)\n",
    "\n",
    "plt.show()"
   ]
  },
  {
   "cell_type": "code",
   "execution_count": 19,
   "id": "7e3ad1cb",
   "metadata": {},
   "outputs": [
    {
     "data": {
      "text/plain": [
       "Twitter (data science influencers)    3995\n",
       "Name: Who/what are your favorite media sources that report on data science topics? (Select all that apply) - Selected Choice - Twitter (data science influencers), dtype: int64"
      ]
     },
     "execution_count": 19,
     "metadata": {},
     "output_type": "execute_result"
    }
   ],
   "source": [
    "df['Who/what are your favorite media sources that report on data science topics? (Select all that apply) - Selected Choice - Twitter (data science influencers)'].value_counts()"
   ]
  },
  {
   "cell_type": "code",
   "execution_count": 20,
   "id": "ab3f0f83",
   "metadata": {},
   "outputs": [
    {
     "data": {
      "text/plain": [
       "Email newsletters (Data Elixir, O'Reilly Data & AI, etc)    3787\n",
       "Name: Who/what are your favorite media sources that report on data science topics? (Select all that apply) - Selected Choice - Email newsletters (Data Elixir, O'Reilly Data & AI, etc), dtype: int64"
      ]
     },
     "execution_count": 20,
     "metadata": {},
     "output_type": "execute_result"
    }
   ],
   "source": [
    "df[\"Who/what are your favorite media sources that report on data science topics? (Select all that apply) - Selected Choice - Email newsletters (Data Elixir, O'Reilly Data & AI, etc)\"].value_counts()"
   ]
  },
  {
   "cell_type": "code",
   "execution_count": 21,
   "id": "fd1e4b5d",
   "metadata": {},
   "outputs": [
    {
     "data": {
      "text/plain": [
       "Reddit (r/machinelearning, etc)    2678\n",
       "Name: Who/what are your favorite media sources that report on data science topics? (Select all that apply) - Selected Choice - Reddit (r/machinelearning, etc), dtype: int64"
      ]
     },
     "execution_count": 21,
     "metadata": {},
     "output_type": "execute_result"
    }
   ],
   "source": [
    "df['Who/what are your favorite media sources that report on data science topics? (Select all that apply) - Selected Choice - Reddit (r/machinelearning, etc)'].value_counts()"
   ]
  },
  {
   "cell_type": "code",
   "execution_count": 22,
   "id": "e731e260",
   "metadata": {},
   "outputs": [
    {
     "data": {
      "text/plain": [
       "Kaggle (notebooks, forums, etc)    11181\n",
       "Name: Who/what are your favorite media sources that report on data science topics? (Select all that apply) - Selected Choice - Kaggle (notebooks, forums, etc), dtype: int64"
      ]
     },
     "execution_count": 22,
     "metadata": {},
     "output_type": "execute_result"
    }
   ],
   "source": [
    "df['Who/what are your favorite media sources that report on data science topics? (Select all that apply) - Selected Choice - Kaggle (notebooks, forums, etc)'].value_counts()"
   ]
  },
  {
   "cell_type": "code",
   "execution_count": 23,
   "id": "46e8f7a5",
   "metadata": {},
   "outputs": [
    {
     "data": {
      "text/plain": [
       "Course Forums (forums.fast.ai, Coursera forums, etc)    4006\n",
       "Name: Who/what are your favorite media sources that report on data science topics? (Select all that apply) - Selected Choice - Course Forums (forums.fast.ai, Coursera forums, etc), dtype: int64"
      ]
     },
     "execution_count": 23,
     "metadata": {},
     "output_type": "execute_result"
    }
   ],
   "source": [
    "df['Who/what are your favorite media sources that report on data science topics? (Select all that apply) - Selected Choice - Course Forums (forums.fast.ai, Coursera forums, etc)'].value_counts()"
   ]
  },
  {
   "cell_type": "code",
   "execution_count": 24,
   "id": "4b4b51c1",
   "metadata": {},
   "outputs": [
    {
     "data": {
      "text/plain": [
       "YouTube (Kaggle YouTube, Cloud AI Adventures, etc)    11957\n",
       "Name: Who/what are your favorite media sources that report on data science topics? (Select all that apply) - Selected Choice - YouTube (Kaggle YouTube, Cloud AI Adventures, etc), dtype: int64"
      ]
     },
     "execution_count": 24,
     "metadata": {},
     "output_type": "execute_result"
    }
   ],
   "source": [
    "df['Who/what are your favorite media sources that report on data science topics? (Select all that apply) - Selected Choice - YouTube (Kaggle YouTube, Cloud AI Adventures, etc)'].value_counts()"
   ]
  },
  {
   "cell_type": "code",
   "execution_count": 25,
   "id": "66581650",
   "metadata": {},
   "outputs": [
    {
     "data": {
      "text/plain": [
       "Blogs (Towards Data Science, Analytics Vidhya, etc)    7766\n",
       "Name: Who/what are your favorite media sources that report on data science topics? (Select all that apply) - Selected Choice - Blogs (Towards Data Science, Analytics Vidhya, etc), dtype: int64"
      ]
     },
     "execution_count": 25,
     "metadata": {},
     "output_type": "execute_result"
    }
   ],
   "source": [
    "df['Who/what are your favorite media sources that report on data science topics? (Select all that apply) - Selected Choice - Blogs (Towards Data Science, Analytics Vidhya, etc)'].value_counts()"
   ]
  },
  {
   "cell_type": "code",
   "execution_count": 26,
   "id": "2ed90d86",
   "metadata": {},
   "outputs": [
    {
     "data": {
      "text/plain": [
       "Journal Publications (peer-reviewed journals, conference proceedings, etc)    3804\n",
       "Name: Who/what are your favorite media sources that report on data science topics? (Select all that apply) - Selected Choice - Journal Publications (peer-reviewed journals, conference proceedings, etc), dtype: int64"
      ]
     },
     "execution_count": 26,
     "metadata": {},
     "output_type": "execute_result"
    }
   ],
   "source": [
    "df['Who/what are your favorite media sources that report on data science topics? (Select all that apply) - Selected Choice - Journal Publications (peer-reviewed journals, conference proceedings, etc)'].value_counts()"
   ]
  },
  {
   "cell_type": "code",
   "execution_count": 27,
   "id": "7e79a0f8",
   "metadata": {
    "slideshow": {
     "slide_type": "slide"
    }
   },
   "outputs": [
    {
     "data": {
      "text/plain": [
       "Slack Communities (ods.ai, kagglenoobs, etc)    1726\n",
       "Name: Who/what are your favorite media sources that report on data science topics? (Select all that apply) - Selected Choice - Slack Communities (ods.ai, kagglenoobs, etc), dtype: int64"
      ]
     },
     "execution_count": 27,
     "metadata": {},
     "output_type": "execute_result"
    }
   ],
   "source": [
    "df['Who/what are your favorite media sources that report on data science topics? (Select all that apply) - Selected Choice - Slack Communities (ods.ai, kagglenoobs, etc)'].value_counts()"
   ]
  },
  {
   "cell_type": "code",
   "execution_count": 28,
   "id": "0bada92e",
   "metadata": {},
   "outputs": [
    {
     "data": {
      "text/plain": [
       "None    1268\n",
       "Name: Who/what are your favorite media sources that report on data science topics? (Select all that apply) - Selected Choice - None, dtype: int64"
      ]
     },
     "execution_count": 28,
     "metadata": {},
     "output_type": "execute_result"
    }
   ],
   "source": [
    "df['Who/what are your favorite media sources that report on data science topics? (Select all that apply) - Selected Choice - None'].value_counts()"
   ]
  },
  {
   "cell_type": "code",
   "execution_count": 29,
   "id": "ede4bc20",
   "metadata": {},
   "outputs": [
    {
     "data": {
      "text/plain": [
       "Other    835\n",
       "Name: Who/what are your favorite media sources that report on data science topics? (Select all that apply) - Selected Choice - Other, dtype: int64"
      ]
     },
     "execution_count": 29,
     "metadata": {},
     "output_type": "execute_result"
    }
   ],
   "source": [
    "df['Who/what are your favorite media sources that report on data science topics? (Select all that apply) - Selected Choice - Other'].value_counts()"
   ]
  },
  {
   "cell_type": "code",
   "execution_count": 30,
   "id": "2865a129",
   "metadata": {},
   "outputs": [
    {
     "data": {
      "image/png": "[encoded data removed]",
      "text/plain": [
       "<Figure size 432x288 with 1 Axes>"
      ]
     },
     "metadata": {
      "needs_background": "light"
     },
     "output_type": "display_data"
    }
   ],
   "source": [
    "x = np.array(['Twitter','Email newsletters','Reddit','Kaggle','Course Forums','You Tube','Blogs','Journal Publications','Slack Communities','None','Others'])\n",
    "y = np.array([3395,3787,2678,11181,4006,11957,7766,804,1726,1268,835])\n",
    "bar_labels = ['red', 'blue', 'violet', 'orange','skyblue', 'yellow','red','blue','orange','green','magenta']\n",
    "\n",
    "plt.grid(True, linewidth=0.5, color='#0000ff', linestyle='-')\n",
    "plt.bar(x,y, fill=True, hatch='', color=bar_labels)\n",
    "plt.xticks(rotation=90)\n",
    "\n",
    "plt.show()\n",
    "#plt.savefig()"
   ]
  },
  {
   "cell_type": "code",
   "execution_count": null,
   "id": "06bf3ef2",
   "metadata": {},
   "outputs": [],
   "source": []
  }
 ],
 "metadata": {
  "celltoolbar": "Slideshow",
  "kernelspec": {
   "display_name": "Python 3 (ipykernel)",
   "language": "python",
   "name": "python3"
  },
  "language_info": {
   "codemirror_mode": {
    "name": "ipython",
    "version": 3
   },
   "file_extension": ".py",
   "mimetype": "text/x-python",
   "name": "python",
   "nbconvert_exporter": "python",
   "pygments_lexer": "ipython3",
   "version": "3.9.12"
  }
 },
 "nbformat": 4,
 "nbformat_minor": 5
}
